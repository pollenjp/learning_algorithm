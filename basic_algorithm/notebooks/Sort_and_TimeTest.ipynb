{
 "cells": [
  {
   "cell_type": "markdown",
   "metadata": {
    "toc": true
   },
   "source": [
    "<h1>Table of Contents<span class=\"tocSkip\"></span></h1>\n",
    "<div class=\"toc\"><ul class=\"toc-item\"><li><span><a href=\"#sample-data\" data-toc-modified-id=\"sample-data-1\"><span class=\"toc-item-num\">1&nbsp;&nbsp;</span>sample data</a></span></li><li><span><a href=\"#O(n^2)-O(n)-挿入ソート-(Insetion-Sort)\" data-toc-modified-id=\"O(n^2)-O(n)-挿入ソート-(Insetion-Sort)-2\"><span class=\"toc-item-num\">2&nbsp;&nbsp;</span>O(n^2) O(n) 挿入ソート (Insetion Sort)</a></span></li><li><span><a href=\"#バブルソート-Bubble-Sort\" data-toc-modified-id=\"バブルソート-Bubble-Sort-3\"><span class=\"toc-item-num\">3&nbsp;&nbsp;</span>バブルソート Bubble Sort</a></span></li><li><span><a href=\"#選択ソート-Selection-Sort\" data-toc-modified-id=\"選択ソート-Selection-Sort-4\"><span class=\"toc-item-num\">4&nbsp;&nbsp;</span>選択ソート Selection Sort</a></span></li><li><span><a href=\"#安定なソート-Stable-Sort\" data-toc-modified-id=\"安定なソート-Stable-Sort-5\"><span class=\"toc-item-num\">5&nbsp;&nbsp;</span>安定なソート Stable Sort</a></span></li><li><span><a href=\"#シェルソート-Shell-Sort\" data-toc-modified-id=\"シェルソート-Shell-Sort-6\"><span class=\"toc-item-num\">6&nbsp;&nbsp;</span>シェルソート Shell Sort</a></span></li><li><span><a href=\"#マージソート-Merge-Sort\" data-toc-modified-id=\"マージソート-Merge-Sort-7\"><span class=\"toc-item-num\">7&nbsp;&nbsp;</span>マージソート Merge Sort</a></span></li><li><span><a href=\"#パーティション-Partition\" data-toc-modified-id=\"パーティション-Partition-8\"><span class=\"toc-item-num\">8&nbsp;&nbsp;</span>パーティション Partition</a></span></li><li><span><a href=\"#クイックソート-Quick-Sort\" data-toc-modified-id=\"クイックソート-Quick-Sort-9\"><span class=\"toc-item-num\">9&nbsp;&nbsp;</span>クイックソート Quick Sort</a></span></li><li><span><a href=\"#計数ソート-Counting-Sort\" data-toc-modified-id=\"計数ソート-Counting-Sort-10\"><span class=\"toc-item-num\">10&nbsp;&nbsp;</span>計数ソート Counting Sort</a></span></li><li><span><a href=\"#End\" data-toc-modified-id=\"End-11\"><span class=\"toc-item-num\">11&nbsp;&nbsp;</span>End</a></span></li></ul></div>"
   ]
  },
  {
   "cell_type": "markdown",
   "metadata": {},
   "source": [
    "# Sort\n",
    "\n",
    "\n",
    "- 参考\n",
    "  - [プログラミングコンテスト攻略のためのアルゴリズムとデータ構造](http://amzn.asia/caUvUug)"
   ]
  },
  {
   "cell_type": "code",
   "execution_count": 1,
   "metadata": {
    "ExecuteTime": {
     "end_time": "2018-08-19T23:21:39.797016Z",
     "start_time": "2018-08-19T23:21:39.791477Z"
    }
   },
   "outputs": [],
   "source": [
    "import random\n",
    "import copy\n",
    "\n",
    "random.seed(a=42)"
   ]
  },
  {
   "cell_type": "markdown",
   "metadata": {},
   "source": [
    "## sample data\n",
    "復元抽出を使用"
   ]
  },
  {
   "cell_type": "code",
   "execution_count": 2,
   "metadata": {
    "ExecuteTime": {
     "end_time": "2018-08-19T23:21:39.894256Z",
     "start_time": "2018-08-19T23:21:39.799244Z"
    }
   },
   "outputs": [],
   "source": [
    "N1 = 10\n",
    "N2 = 100\n",
    "N3 = 1000\n",
    "N4 = 10000"
   ]
  },
  {
   "cell_type": "code",
   "execution_count": 3,
   "metadata": {
    "ExecuteTime": {
     "end_time": "2018-08-19T23:21:40.003275Z",
     "start_time": "2018-08-19T23:21:39.896935Z"
    }
   },
   "outputs": [
    {
     "name": "stdout",
     "output_type": "stream",
     "text": [
      "[1, 0, 4, 3, 3, 2, 1, 8, 1, 9]\n",
      "[54, 4, 3, 11, 27, 29, 64, 77, 3, 71]\n",
      "[410, 274, 67, 216, 935, 965, 580, 897, 735, 322]\n",
      "[4397, 5280, 4022, 1419, 4569, 7385, 3995, 7613, 9336, 9999]\n"
     ]
    }
   ],
   "source": [
    "n = N1\n",
    "sample1 = [random.randrange(n) for i in range(n)]\n",
    "print(sample1[:10])\n",
    "n = N2\n",
    "sample2 = [random.randrange(n) for i in range(n)]\n",
    "print(sample2[:10])\n",
    "n = N3\n",
    "sample3 = [random.randrange(n) for i in range(n)]\n",
    "print(sample3[:10])\n",
    "n = N4\n",
    "sample4 = [random.randrange(n) for i in range(n)]\n",
    "print(sample4[:10])"
   ]
  },
  {
   "cell_type": "markdown",
   "metadata": {},
   "source": [
    "## O(n^2) O(n) 挿入ソート (Insetion Sort)"
   ]
  },
  {
   "cell_type": "code",
   "execution_count": 9,
   "metadata": {
    "ExecuteTime": {
     "end_time": "2018-08-19T23:27:10.604067Z",
     "start_time": "2018-08-19T23:27:10.594590Z"
    }
   },
   "outputs": [],
   "source": [
    "def insertionSort(seq, n):\n",
    "    \"\"\"\n",
    "    order : O(n^2)\n",
    "        降順配列 --> O(n^2)\n",
    "        昇順配列 --> O(n)\n",
    "    ある程度整列されたデータに対しては高速に動作する\n",
    "    \"\"\"\n",
    "    seq = copy.deepcopy(x=seq)\n",
    "    for i in range(1,n):                 # O(n-1)\n",
    "        v = seq[i]\n",
    "        j = i - 1\n",
    "        while j >= 0 and seq[j] > v:    ## max : O(i), min: O(1)\n",
    "            seq[j+1] = seq[j]\n",
    "            j -= 1\n",
    "        seq[j+1] = v\n",
    "    return seq"
   ]
  },
  {
   "cell_type": "code",
   "execution_count": 10,
   "metadata": {
    "ExecuteTime": {
     "end_time": "2018-08-19T23:27:53.283045Z",
     "start_time": "2018-08-19T23:27:53.278004Z"
    }
   },
   "outputs": [],
   "source": [
    "algo = insertionSort"
   ]
  },
  {
   "cell_type": "code",
   "execution_count": 11,
   "metadata": {
    "ExecuteTime": {
     "end_time": "2018-08-19T23:27:57.756625Z",
     "start_time": "2018-08-19T23:27:57.751265Z"
    }
   },
   "outputs": [
    {
     "name": "stdout",
     "output_type": "stream",
     "text": [
      "[0, 1, 1, 1, 2, 3, 3, 4, 8, 9]\n"
     ]
    }
   ],
   "source": [
    "sample = sample1\n",
    "print(algo(seq=sample, n=len(sample))[:10])"
   ]
  },
  {
   "cell_type": "code",
   "execution_count": 12,
   "metadata": {
    "ExecuteTime": {
     "end_time": "2018-08-19T23:28:02.209145Z",
     "start_time": "2018-08-19T23:28:02.201512Z"
    }
   },
   "outputs": [
    {
     "name": "stdout",
     "output_type": "stream",
     "text": [
      "[0, 3, 3, 4, 4, 5, 5, 7, 8, 9]\n"
     ]
    }
   ],
   "source": [
    "sample = sample2\n",
    "print(algo(seq=sample, n=len(sample))[:10])"
   ]
  },
  {
   "cell_type": "code",
   "execution_count": 13,
   "metadata": {
    "ExecuteTime": {
     "end_time": "2018-08-19T23:28:06.894787Z",
     "start_time": "2018-08-19T23:28:06.816221Z"
    }
   },
   "outputs": [
    {
     "name": "stdout",
     "output_type": "stream",
     "text": [
      "[0, 0, 1, 2, 3, 3, 5, 6, 7, 8]\n"
     ]
    }
   ],
   "source": [
    "sample = sample3\n",
    "print(algo(seq=sample, n=len(sample))[:10])"
   ]
  },
  {
   "cell_type": "code",
   "execution_count": 14,
   "metadata": {
    "ExecuteTime": {
     "end_time": "2018-08-19T23:28:14.907879Z",
     "start_time": "2018-08-19T23:28:09.807987Z"
    }
   },
   "outputs": [
    {
     "name": "stdout",
     "output_type": "stream",
     "text": [
      "[1, 1, 2, 3, 3, 4, 8, 8, 11, 11]\n"
     ]
    }
   ],
   "source": [
    "sample = sample4\n",
    "print(algo(seq=sample, n=len(sample))[:10])"
   ]
  },
  {
   "cell_type": "markdown",
   "metadata": {},
   "source": [
    "## バブルソート Bubble Sort"
   ]
  },
  {
   "cell_type": "code",
   "execution_count": 23,
   "metadata": {
    "ExecuteTime": {
     "end_time": "2018-08-20T00:24:30.759040Z",
     "start_time": "2018-08-20T00:24:30.748725Z"
    }
   },
   "outputs": [],
   "source": [
    "def bubbleSort(seq, n):\n",
    "    \"\"\"\n",
    "    order: O(n^2)\n",
    "    \"\"\"\n",
    "    seq = copy.deepcopy(x=seq)\n",
    "    flag = 1\n",
    "    while flag:                                       # max: O(n), min: O(1)\n",
    "        flag = 0\n",
    "        for j in range(n-1, 0, -1):  # O(n)\n",
    "            if seq[j] < seq[j-1]:\n",
    "                temp = copy.deepcopy(seq[j])\n",
    "                seq[j] = seq[j-1]\n",
    "                seq[j-1] = temp\n",
    "                flag = 1\n",
    "    return seq"
   ]
  },
  {
   "cell_type": "code",
   "execution_count": 26,
   "metadata": {
    "ExecuteTime": {
     "end_time": "2018-08-20T00:24:32.402170Z",
     "start_time": "2018-08-20T00:24:32.398895Z"
    }
   },
   "outputs": [],
   "source": [
    "algo = bubbleSort"
   ]
  },
  {
   "cell_type": "code",
   "execution_count": 27,
   "metadata": {
    "ExecuteTime": {
     "end_time": "2018-08-20T00:24:32.539829Z",
     "start_time": "2018-08-20T00:24:32.535062Z"
    }
   },
   "outputs": [
    {
     "name": "stdout",
     "output_type": "stream",
     "text": [
      "[0, 1, 1, 1, 2, 3, 3, 4, 8, 9]\n"
     ]
    }
   ],
   "source": [
    "sample = sample1\n",
    "print(algo(seq=sample, n=len(sample))[:10])"
   ]
  },
  {
   "cell_type": "code",
   "execution_count": 28,
   "metadata": {
    "ExecuteTime": {
     "end_time": "2018-08-20T00:24:36.509327Z",
     "start_time": "2018-08-20T00:24:36.487996Z"
    }
   },
   "outputs": [
    {
     "name": "stdout",
     "output_type": "stream",
     "text": [
      "[0, 3, 3, 4, 4, 5, 5, 7, 8, 9]\n"
     ]
    }
   ],
   "source": [
    "sample = sample2\n",
    "print(algo(seq=sample, n=len(sample))[:10])"
   ]
  },
  {
   "cell_type": "code",
   "execution_count": 29,
   "metadata": {
    "ExecuteTime": {
     "end_time": "2018-08-20T00:24:38.258831Z",
     "start_time": "2018-08-20T00:24:37.822107Z"
    }
   },
   "outputs": [
    {
     "name": "stdout",
     "output_type": "stream",
     "text": [
      "[0, 0, 1, 2, 3, 3, 5, 6, 7, 8]\n"
     ]
    }
   ],
   "source": [
    "sample = sample3\n",
    "print(algo(seq=sample, n=len(sample))[:10])"
   ]
  },
  {
   "cell_type": "code",
   "execution_count": 30,
   "metadata": {
    "ExecuteTime": {
     "end_time": "2018-08-20T00:25:19.161066Z",
     "start_time": "2018-08-20T00:24:38.289186Z"
    }
   },
   "outputs": [
    {
     "name": "stdout",
     "output_type": "stream",
     "text": [
      "[1, 1, 2, 3, 3, 4, 8, 8, 11, 11]\n"
     ]
    }
   ],
   "source": [
    "sample = sample4\n",
    "print(algo(seq=sample, n=len(sample))[:10])"
   ]
  },
  {
   "cell_type": "code",
   "execution_count": null,
   "metadata": {},
   "outputs": [],
   "source": []
  },
  {
   "cell_type": "code",
   "execution_count": null,
   "metadata": {},
   "outputs": [],
   "source": []
  },
  {
   "cell_type": "markdown",
   "metadata": {},
   "source": [
    "## 選択ソート Selection Sort"
   ]
  },
  {
   "cell_type": "markdown",
   "metadata": {},
   "source": [
    "## 安定なソート Stable Sort"
   ]
  },
  {
   "cell_type": "markdown",
   "metadata": {},
   "source": [
    "## シェルソート Shell Sort"
   ]
  },
  {
   "cell_type": "markdown",
   "metadata": {},
   "source": [
    "## マージソート Merge Sort"
   ]
  },
  {
   "cell_type": "markdown",
   "metadata": {},
   "source": [
    "## パーティション Partition"
   ]
  },
  {
   "cell_type": "markdown",
   "metadata": {},
   "source": [
    "## クイックソート Quick Sort"
   ]
  },
  {
   "cell_type": "markdown",
   "metadata": {},
   "source": [
    "## 計数ソート Counting Sort"
   ]
  },
  {
   "cell_type": "code",
   "execution_count": null,
   "metadata": {},
   "outputs": [],
   "source": []
  },
  {
   "cell_type": "code",
   "execution_count": null,
   "metadata": {},
   "outputs": [],
   "source": []
  },
  {
   "cell_type": "code",
   "execution_count": null,
   "metadata": {},
   "outputs": [],
   "source": []
  },
  {
   "cell_type": "markdown",
   "metadata": {},
   "source": [
    "## End"
   ]
  }
 ],
 "metadata": {
  "kernelspec": {
   "display_name": "Python 3",
   "language": "python",
   "name": "python3"
  },
  "toc": {
   "base_numbering": 1,
   "nav_menu": {},
   "number_sections": true,
   "sideBar": true,
   "skip_h1_title": true,
   "title_cell": "Table of Contents",
   "title_sidebar": "Contents",
   "toc_cell": true,
   "toc_position": {
    "height": "calc(100% - 180px)",
    "left": "10px",
    "top": "150px",
    "width": "265px"
   },
   "toc_section_display": true,
   "toc_window_display": true
  },
  "varInspector": {
   "cols": {
    "lenName": 16,
    "lenType": 16,
    "lenVar": 40
   },
   "kernels_config": {
    "python": {
     "delete_cmd_postfix": "",
     "delete_cmd_prefix": "del ",
     "library": "var_list.py",
     "varRefreshCmd": "print(var_dic_list())"
    },
    "r": {
     "delete_cmd_postfix": ") ",
     "delete_cmd_prefix": "rm(",
     "library": "var_list.r",
     "varRefreshCmd": "cat(var_dic_list()) "
    }
   },
   "types_to_exclude": [
    "module",
    "function",
    "builtin_function_or_method",
    "instance",
    "_Feature"
   ],
   "window_display": false
  }
 },
 "nbformat": 4,
 "nbformat_minor": 2
}

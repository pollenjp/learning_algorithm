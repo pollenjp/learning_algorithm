{
 "cells": [
  {
   "cell_type": "markdown",
   "metadata": {
    "toc": true
   },
   "source": [
    "<h1>Table of Contents<span class=\"tocSkip\"></span></h1>\n",
    "<div class=\"toc\"><ul class=\"toc-item\"><li><span><a href=\"#Search-Maximum-Algorithm\" data-toc-modified-id=\"Search-Maximum-Algorithm-1\"><span class=\"toc-item-num\">1&nbsp;&nbsp;</span>Search Maximum Algorithm</a></span></li><li><span><a href=\"#Euclidean-Algorithm\" data-toc-modified-id=\"Euclidean-Algorithm-2\"><span class=\"toc-item-num\">2&nbsp;&nbsp;</span>Euclidean Algorithm</a></span></li><li><span><a href=\"#Binary-Search\" data-toc-modified-id=\"Binary-Search-3\"><span class=\"toc-item-num\">3&nbsp;&nbsp;</span>Binary Search</a></span><ul class=\"toc-item\"><li><span><a href=\"#平方根の見積もり\" data-toc-modified-id=\"平方根の見積もり-3.1\"><span class=\"toc-item-num\">3.1&nbsp;&nbsp;</span>平方根の見積もり</a></span></li></ul></li></ul></div>"
   ]
  },
  {
   "cell_type": "markdown",
   "metadata": {},
   "source": [
    "# Search Maximum Algorithm"
   ]
  },
  {
   "cell_type": "code",
   "execution_count": 2,
   "metadata": {},
   "outputs": [],
   "source": [
    "def maximum(x):\n",
    "    \"\"\"\n",
    "    x: a list of numbers\n",
    "    \"\"\"\n",
    "    max = x[0]\n",
    "    for i in range(1, len(x)):\n",
    "        if x[i] > max:\n",
    "            max = x[i]\n",
    "    return max"
   ]
  },
  {
   "cell_type": "code",
   "execution_count": 3,
   "metadata": {},
   "outputs": [
    {
     "data": {
      "text/plain": [
       "9"
      ]
     },
     "execution_count": 3,
     "metadata": {},
     "output_type": "execute_result"
    }
   ],
   "source": [
    "# example\n",
    "x = [5, 2, 9, 0, 2, 6, 2]\n",
    "maximum(x)"
   ]
  },
  {
   "cell_type": "markdown",
   "metadata": {},
   "source": [
    "# Euclidean Algorithm"
   ]
  },
  {
   "cell_type": "code",
   "execution_count": 4,
   "metadata": {},
   "outputs": [],
   "source": [
    "def euclid(x, y):\n",
    "    if x < y:\n",
    "        x, y = y, x\n",
    "    while y > 0:\n",
    "        x, y = y, x % y\n",
    "    return x"
   ]
  },
  {
   "cell_type": "code",
   "execution_count": 12,
   "metadata": {},
   "outputs": [
    {
     "data": {
      "text/plain": [
       "4"
      ]
     },
     "execution_count": 12,
     "metadata": {},
     "output_type": "execute_result"
    }
   ],
   "source": [
    "# example\n",
    "euclid(134352, 34252)"
   ]
  },
  {
   "cell_type": "markdown",
   "metadata": {},
   "source": [
    "# Binary Search"
   ]
  },
  {
   "cell_type": "markdown",
   "metadata": {},
   "source": [
    "## 平方根の見積もり\n",
    "$ Input: x \\in \\boldsymbol{N},\\  (accuracy) \\ p \\in \\boldsymbol(R)$  \n",
    "$ Output: a \\le \\sqrt{2} \\le b \\ \\land b - a \\le p$ である $a,b \\in \\boldsymbol{R}_{\\ge 0}$"
   ]
  },
  {
   "cell_type": "code",
   "execution_count": 1,
   "metadata": {},
   "outputs": [],
   "source": [
    "def SquareRootBinarySearch(x, p):\n",
    "    lower, upper = 0, x\n",
    "    while upper - lower > p:\n",
    "        print(\"[lower, upper] = [%4.3f, %4.3f]\" % (lower, upper))\n",
    "        mid = (upper + lower) / 2\n",
    "        if mid ** 2 > x:\n",
    "            upper = mid\n",
    "        else:\n",
    "            lower = mid\n",
    "    return lower, upper"
   ]
  },
  {
   "cell_type": "code",
   "execution_count": 4,
   "metadata": {
    "scrolled": false
   },
   "outputs": [
    {
     "name": "stdout",
     "output_type": "stream",
     "text": [
      "[lower, upper] = [0.000, 2.000]\n",
      "[lower, upper] = [1.000, 2.000]\n",
      "[lower, upper] = [1.000, 1.500]\n",
      "[lower, upper] = [1.250, 1.500]\n",
      "[lower, upper] = [1.375, 1.500]\n",
      "[lower, upper] = [1.375, 1.438]\n",
      "[lower, upper] = [1.406, 1.438]\n",
      "[lower, upper] = [1.406, 1.422]\n",
      "[lower, upper] = [1.414, 1.422]\n",
      "[lower, upper] = [1.414, 1.418]\n",
      "[lower, upper] = [1.414, 1.416]\n",
      "[lower, upper] = [1.414, 1.415]\n",
      "[lower, upper] = [1.414, 1.415]\n",
      "[lower, upper] = [1.414, 1.414]\n",
      "[lower, upper] = [1.414, 1.414]\n",
      "[lower, upper] = [1.414, 1.414]\n",
      "[lower, upper] = [1.414, 1.414]\n",
      "[lower, upper] = [1.414, 1.414]\n",
      "[lower, upper] = [1.414, 1.414]\n",
      "[lower, upper] = [1.414, 1.414]\n",
      "[lower, upper] = [1.414, 1.414]\n",
      "[lower, upper] = [1.414, 1.414]\n",
      "[lower, upper] = [1.414, 1.414]\n",
      "[lower, upper] = [1.414, 1.414]\n",
      "[lower, upper] = [1.414, 1.414]\n",
      "[lower, upper] = [1.414, 1.414]\n",
      "[lower, upper] = [1.414, 1.414]\n",
      "[lower, upper] = [1.414, 1.414]\n",
      "[lower, upper] = [1.414, 1.414]\n",
      "[lower, upper] = [1.414, 1.414]\n",
      "[lower, upper] = [1.414, 1.414]\n",
      "[lower, upper] = [1.414, 1.414]\n",
      "[lower, upper] = [1.414, 1.414]\n",
      "[lower, upper] = [1.414, 1.414]\n",
      "[lower, upper] = [1.414, 1.414]\n"
     ]
    },
    {
     "data": {
      "text/plain": [
       "(1.4142135623260401, 1.4142135623842478)"
      ]
     },
     "execution_count": 4,
     "metadata": {},
     "output_type": "execute_result"
    }
   ],
   "source": [
    "# example\n",
    "SquareRootBinarySearch(2, 10**(-10))"
   ]
  },
  {
   "cell_type": "code",
   "execution_count": null,
   "metadata": {},
   "outputs": [],
   "source": []
  },
  {
   "cell_type": "code",
   "execution_count": null,
   "metadata": {},
   "outputs": [],
   "source": []
  }
 ],
 "metadata": {
  "kernelspec": {
   "display_name": "Python 3",
   "language": "python",
   "name": "python3"
  },
  "language_info": {
   "codemirror_mode": {
    "name": "ipython",
    "version": 3
   },
   "file_extension": ".py",
   "mimetype": "text/x-python",
   "name": "python",
   "nbconvert_exporter": "python",
   "pygments_lexer": "ipython3",
   "version": "3.5.2"
  },
  "toc": {
   "nav_menu": {},
   "number_sections": true,
   "sideBar": true,
   "skip_h1_title": false,
   "title_cell": "Table of Contents",
   "title_sidebar": "Contents",
   "toc_cell": true,
   "toc_position": {},
   "toc_section_display": true,
   "toc_window_display": true
  }
 },
 "nbformat": 4,
 "nbformat_minor": 2
}

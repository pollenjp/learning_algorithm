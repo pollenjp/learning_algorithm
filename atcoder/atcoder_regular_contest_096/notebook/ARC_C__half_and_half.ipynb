{
 "cells": [
  {
   "cell_type": "markdown",
   "metadata": {
    "toc": true
   },
   "source": [
    "<h1>Table of Contents<span class=\"tocSkip\"></span></h1>\n",
    "<div class=\"toc\" style=\"margin-top: 1em;\"><ul class=\"toc-item\"></ul></div>"
   ]
  },
  {
   "cell_type": "code",
   "execution_count": 1,
   "metadata": {},
   "outputs": [
    {
     "name": "stdout",
     "output_type": "stream",
     "text": [
      "1500 2000 1900 3 2\n",
      "8500\n"
     ]
    }
   ],
   "source": [
    "input_str = input()\n",
    "\n",
    "A, B, C, X, Y = input_str.split(\" \")\n",
    "\n",
    "A = int(A)\n",
    "B = int(B)\n",
    "C = int(C)\n",
    "X = int(X)\n",
    "Y = int(Y)\n",
    "\n",
    "answer = 0\n",
    "ave_AB = (A + B) / 2\n",
    "if ave_AB <= C:\n",
    "    answer = X*A + Y*B\n",
    "else:\n",
    "    xy_min = min(X,Y)\n",
    "    answer = xy_min * C * 2\n",
    "    tmp = X - Y\n",
    "    if tmp > 0:\n",
    "        if A < C*2:\n",
    "            answer += tmp*A\n",
    "        else:\n",
    "            answer += tmp*C*2\n",
    "    elif tmp < 0:\n",
    "        if B < C*2:\n",
    "            answer += -tmp*B\n",
    "        else:\n",
    "            answer += -tmp*C*2\n",
    "print(answer)"
   ]
  },
  {
   "cell_type": "code",
   "execution_count": null,
   "metadata": {},
   "outputs": [],
   "source": []
  }
 ],
 "metadata": {
  "kernelspec": {
   "display_name": "Python 3",
   "language": "python",
   "name": "python3"
  },
  "language_info": {
   "codemirror_mode": {
    "name": "ipython",
    "version": 3
   },
   "file_extension": ".py",
   "mimetype": "text/x-python",
   "name": "python",
   "nbconvert_exporter": "python",
   "pygments_lexer": "ipython3",
   "version": "3.5.2"
  },
  "toc": {
   "nav_menu": {},
   "number_sections": true,
   "sideBar": true,
   "skip_h1_title": false,
   "toc_cell": true,
   "toc_position": {},
   "toc_section_display": "block",
   "toc_window_display": true
  }
 },
 "nbformat": 4,
 "nbformat_minor": 2
}

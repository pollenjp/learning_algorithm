{
 "cells": [
  {
   "cell_type": "markdown",
   "metadata": {
    "toc": true
   },
   "source": [
    "<h1>Table of Contents<span class=\"tocSkip\"></span></h1>\n",
    "<div class=\"toc\"><ul class=\"toc-item\"><li><span><a href=\"#Solve\" data-toc-modified-id=\"Solve-1\"><span class=\"toc-item-num\">1&nbsp;&nbsp;</span>Solve</a></span></li><li><span><a href=\"#answer\" data-toc-modified-id=\"answer-2\"><span class=\"toc-item-num\">2&nbsp;&nbsp;</span>answer</a></span></li><li><span><a href=\"#Sample\" data-toc-modified-id=\"Sample-3\"><span class=\"toc-item-num\">3&nbsp;&nbsp;</span>Sample</a></span></li><li><span><a href=\"#End\" data-toc-modified-id=\"End-4\"><span class=\"toc-item-num\">4&nbsp;&nbsp;</span>End</a></span></li></ul></div>"
   ]
  },
  {
   "cell_type": "markdown",
   "metadata": {},
   "source": [
    "# C__To_Infinity__Python"
   ]
  },
  {
   "cell_type": "code",
   "execution_count": 14,
   "metadata": {
    "ExecuteTime": {
     "end_time": "2018-08-20T01:52:28.243303Z",
     "start_time": "2018-08-20T01:52:28.237980Z"
    }
   },
   "outputs": [
    {
     "name": "stdout",
     "output_type": "stream",
     "text": [
      "58\n",
      "1152921504606846976\n"
     ]
    }
   ],
   "source": [
    "days = 5 * 10 ** 15\n",
    "K_limits = 10 ** 18\n",
    "tmp = 2\n",
    "for i in range(days):\n",
    "    tmp *= 2\n",
    "    if tmp > K_limits:\n",
    "        print(i)\n",
    "        break\n",
    "print(tmp)"
   ]
  },
  {
   "cell_type": "markdown",
   "metadata": {},
   "source": [
    "この結果より,\n",
    "$$\n",
    "1 < K\\_limits < 2^{5 \\cdot 10^{15}} < 3^{5 \\cdot 10^{15}} < \\cdots < 9^{5 \\cdot 10^{15}}\n",
    "$$\n",
    "よって,$K$が$S$の文字数より大きければ与えられた文字列の\"1\"ではない最初の数字が答え"
   ]
  },
  {
   "cell_type": "markdown",
   "metadata": {},
   "source": [
    "## Solve"
   ]
  },
  {
   "cell_type": "code",
   "execution_count": 50,
   "metadata": {
    "ExecuteTime": {
     "end_time": "2018-08-20T02:43:23.488115Z",
     "start_time": "2018-08-20T02:43:23.482735Z"
    }
   },
   "outputs": [],
   "source": [
    "def solve(S, K):\n",
    "    if K <= len(S) and S[:K] == \"1\"*K:\n",
    "        # 文字列の1番目からK番目までがすべて1だった場合、\n",
    "        # それ以降の文字列に1以外の数字があっても1が答え\n",
    "        return \"1\"\n",
    "    for s in S:\n",
    "        if not s == \"1\":\n",
    "            return s  # Sの\"1\"ではない、最初の数字が答え\n"
   ]
  },
  {
   "cell_type": "code",
   "execution_count": 1,
   "metadata": {
    "ExecuteTime": {
     "end_time": "2018-08-20T03:41:38.414864Z",
     "start_time": "2018-08-20T03:41:38.408317Z"
    }
   },
   "outputs": [],
   "source": [
    "def solve(S, K):\n",
    "    \"\"\"\n",
    "    解答のコード\n",
    "    \"\"\"\n",
    "    for i in range(K):\n",
    "        if S[i] != \"1\":\n",
    "            return S[i]\n",
    "    return \"1\""
   ]
  },
  {
   "cell_type": "markdown",
   "metadata": {},
   "source": [
    "## answer"
   ]
  },
  {
   "cell_type": "code",
   "execution_count": 51,
   "metadata": {
    "ExecuteTime": {
     "end_time": "2018-08-20T02:43:43.833621Z",
     "start_time": "2018-08-20T02:43:31.187180Z"
    }
   },
   "outputs": [
    {
     "name": "stdout",
     "output_type": "stream",
     "text": [
      "221115\n",
      "4\n",
      "2\n"
     ]
    }
   ],
   "source": [
    "def main():\n",
    "    S = input()\n",
    "    K = int(input())\n",
    "    output = solve(S, K)\n",
    "    print(output)\n",
    "    return\n",
    "\n",
    "def solve(S, K):\n",
    "    \"\"\"\n",
    "    解答のコード\n",
    "    \"\"\"\n",
    "    for i in range(K):\n",
    "        if S[i] != \"1\":\n",
    "            return S[i]\n",
    "    return \"1\"\n",
    "\n",
    "if __name__ == \"__main__\":\n",
    "    main()"
   ]
  },
  {
   "cell_type": "markdown",
   "metadata": {},
   "source": [
    "## Sample"
   ]
  },
  {
   "cell_type": "code",
   "execution_count": 2,
   "metadata": {
    "ExecuteTime": {
     "end_time": "2018-08-20T03:41:45.476595Z",
     "start_time": "2018-08-20T03:41:45.453317Z"
    }
   },
   "outputs": [
    {
     "data": {
      "text/plain": [
       "'2'"
      ]
     },
     "execution_count": 2,
     "metadata": {},
     "output_type": "execute_result"
    }
   ],
   "source": [
    "S = \"1214\"\n",
    "K = 4\n",
    "solve(S, K)"
   ]
  },
  {
   "cell_type": "code",
   "execution_count": 3,
   "metadata": {
    "ExecuteTime": {
     "end_time": "2018-08-20T03:41:45.593967Z",
     "start_time": "2018-08-20T03:41:45.588797Z"
    }
   },
   "outputs": [
    {
     "data": {
      "text/plain": [
       "'3'"
      ]
     },
     "execution_count": 3,
     "metadata": {},
     "output_type": "execute_result"
    }
   ],
   "source": [
    "S = \"3\"\n",
    "K = 157\n",
    "solve(S, K)"
   ]
  },
  {
   "cell_type": "code",
   "execution_count": 4,
   "metadata": {
    "ExecuteTime": {
     "end_time": "2018-08-20T03:41:45.967715Z",
     "start_time": "2018-08-20T03:41:45.963303Z"
    }
   },
   "outputs": [
    {
     "data": {
      "text/plain": [
       "'2'"
      ]
     },
     "execution_count": 4,
     "metadata": {},
     "output_type": "execute_result"
    }
   ],
   "source": [
    "S = \"299792458\"\n",
    "K = 9460730472580800\n",
    "solve(S, K)"
   ]
  },
  {
   "cell_type": "code",
   "execution_count": 5,
   "metadata": {
    "ExecuteTime": {
     "end_time": "2018-08-20T03:41:47.934889Z",
     "start_time": "2018-08-20T03:41:47.922580Z"
    }
   },
   "outputs": [
    {
     "data": {
      "text/plain": [
       "'4'"
      ]
     },
     "execution_count": 5,
     "metadata": {},
     "output_type": "execute_result"
    }
   ],
   "source": [
    "S = \"4\"\n",
    "K = 124\n",
    "solve(S, K)"
   ]
  },
  {
   "cell_type": "code",
   "execution_count": null,
   "metadata": {},
   "outputs": [],
   "source": []
  },
  {
   "cell_type": "markdown",
   "metadata": {},
   "source": [
    "## End"
   ]
  }
 ],
 "metadata": {
  "kernelspec": {
   "display_name": "Python 3",
   "language": "python",
   "name": "python3"
  },
  "language_info": {
   "codemirror_mode": {
    "name": "ipython",
    "version": 3
   },
   "file_extension": ".py",
   "mimetype": "text/x-python",
   "name": "python",
   "nbconvert_exporter": "python",
   "pygments_lexer": "ipython3",
   "version": "3.5.2"
  },
  "toc": {
   "base_numbering": 1,
   "nav_menu": {},
   "number_sections": true,
   "sideBar": true,
   "skip_h1_title": true,
   "title_cell": "Table of Contents",
   "title_sidebar": "Contents",
   "toc_cell": true,
   "toc_position": {},
   "toc_section_display": true,
   "toc_window_display": true
  },
  "varInspector": {
   "cols": {
    "lenName": 16,
    "lenType": 16,
    "lenVar": 40
   },
   "kernels_config": {
    "python": {
     "delete_cmd_postfix": "",
     "delete_cmd_prefix": "del ",
     "library": "var_list.py",
     "varRefreshCmd": "print(var_dic_list())"
    },
    "r": {
     "delete_cmd_postfix": ") ",
     "delete_cmd_prefix": "rm(",
     "library": "var_list.r",
     "varRefreshCmd": "cat(var_dic_list()) "
    }
   },
   "types_to_exclude": [
    "module",
    "function",
    "builtin_function_or_method",
    "instance",
    "_Feature"
   ],
   "window_display": false
  }
 },
 "nbformat": 4,
 "nbformat_minor": 2
}

{
 "cells": [
  {
   "cell_type": "markdown",
   "metadata": {
    "toc": true
   },
   "source": [
    "<h1>Table of Contents<span class=\"tocSkip\"></span></h1>\n",
    "<div class=\"toc\"><ul class=\"toc-item\"><li><span><a href=\"#Compile\" data-toc-modified-id=\"Compile-1\"><span class=\"toc-item-num\">1&nbsp;&nbsp;</span>Compile</a></span></li><li><span><a href=\"#Excute\" data-toc-modified-id=\"Excute-2\"><span class=\"toc-item-num\">2&nbsp;&nbsp;</span>Excute</a></span></li></ul></div>"
   ]
  },
  {
   "cell_type": "markdown",
   "metadata": {},
   "source": [
    "# C_file_excute"
   ]
  },
  {
   "cell_type": "code",
   "execution_count": 1,
   "metadata": {},
   "outputs": [],
   "source": [
    "import os\n",
    "from pathlib import Path"
   ]
  },
  {
   "cell_type": "code",
   "execution_count": 3,
   "metadata": {},
   "outputs": [
    {
     "name": "stdout",
     "output_type": "stream",
     "text": [
      "True\n",
      "/home/pollen/workdir/git/github/learning_algorithm/atcoder/abc096/C_Grid_Repainting_2\n",
      "True\n",
      "/home/pollen/workdir/git/github/learning_algorithm/atcoder/abc096/C_Grid_Repainting_2/C\n",
      "True\n",
      "/home/pollen/workdir/git/github/learning_algorithm/atcoder/abc096/C_Grid_Repainting_2/data\n",
      "True\n",
      "/home/pollen/workdir/git/github/learning_algorithm/atcoder/abc096/C_Grid_Repainting_2/data/input\n"
     ]
    }
   ],
   "source": [
    "HOME = Path(os.getcwd()).parent\n",
    "dire = str(HOME)\n",
    "print(os.path.exists(dire))\n",
    "print(dire)\n",
    "C_Path = HOME / \"C\"\n",
    "dire = str(C_Path)\n",
    "print(os.path.exists(dire))\n",
    "print(dire)\n",
    "data_Path = HOME / \"data\"\n",
    "dire = str(data_Path)\n",
    "print(os.path.exists(dire))\n",
    "print(dire)\n",
    "input_Path = data_Path / \"input\"\n",
    "dire = str(input_Path)\n",
    "print(os.path.exists(dire))\n",
    "print(dire)"
   ]
  },
  {
   "cell_type": "code",
   "execution_count": 4,
   "metadata": {},
   "outputs": [
    {
     "name": "stdout",
     "output_type": "stream",
     "text": [
      "合計 12\r\n",
      "-rw-rw-r-- 1 pollen pollen  16  7月  9 08:22 sample01.in\r\n",
      "-rw-rw-r-- 1 pollen pollen  34  7月  9 08:22 sample02.in\r\n",
      "-rw-rw-r-- 1 pollen pollen 138  7月  9 08:23 sample03.in\r\n"
     ]
    }
   ],
   "source": [
    "!ls -l {input_Path}"
   ]
  },
  {
   "cell_type": "markdown",
   "metadata": {},
   "source": [
    "## Compile"
   ]
  },
  {
   "cell_type": "code",
   "execution_count": 109,
   "metadata": {},
   "outputs": [],
   "source": [
    "c_file_Path = C_Path / \"C.c\"\n",
    "excute_file_Path = C_Path / \"C.out\""
   ]
  },
  {
   "cell_type": "code",
   "execution_count": 110,
   "metadata": {},
   "outputs": [],
   "source": [
    "!gcc {c_file_Path} -o {excute_file_path}"
   ]
  },
  {
   "cell_type": "markdown",
   "metadata": {},
   "source": [
    "## Excute"
   ]
  },
  {
   "cell_type": "code",
   "execution_count": 111,
   "metadata": {},
   "outputs": [
    {
     "name": "stdout",
     "output_type": "stream",
     "text": [
      "Yes\r\n"
     ]
    }
   ],
   "source": [
    "input_file = input_Path / \"sample01.in\"\n",
    "!{excute_file_path} < {input_file}"
   ]
  },
  {
   "cell_type": "code",
   "execution_count": 112,
   "metadata": {},
   "outputs": [
    {
     "name": "stdout",
     "output_type": "stream",
     "text": [
      "No\r\n"
     ]
    }
   ],
   "source": [
    "input_file = input_Path / \"sample02.in\"\n",
    "!{excute_file_path} < {input_file}"
   ]
  },
  {
   "cell_type": "code",
   "execution_count": 113,
   "metadata": {},
   "outputs": [
    {
     "name": "stdout",
     "output_type": "stream",
     "text": [
      "Yes\r\n"
     ]
    }
   ],
   "source": [
    "input_file = input_Path / \"sample03.in\"\n",
    "!{excute_file_path} < {input_file}"
   ]
  },
  {
   "cell_type": "code",
   "execution_count": null,
   "metadata": {},
   "outputs": [],
   "source": []
  },
  {
   "cell_type": "code",
   "execution_count": null,
   "metadata": {},
   "outputs": [],
   "source": []
  }
 ],
 "metadata": {
  "kernelspec": {
   "display_name": "Python 3",
   "language": "python",
   "name": "python3"
  },
  "language_info": {
   "codemirror_mode": {
    "name": "ipython",
    "version": 3
   },
   "file_extension": ".py",
   "mimetype": "text/x-python",
   "name": "python",
   "nbconvert_exporter": "python",
   "pygments_lexer": "ipython3",
   "version": "3.5.2"
  },
  "toc": {
   "base_numbering": 1,
   "nav_menu": {},
   "number_sections": true,
   "sideBar": true,
   "skip_h1_title": true,
   "title_cell": "Table of Contents",
   "title_sidebar": "Contents",
   "toc_cell": true,
   "toc_position": {},
   "toc_section_display": true,
   "toc_window_display": true
  }
 },
 "nbformat": 4,
 "nbformat_minor": 2
}

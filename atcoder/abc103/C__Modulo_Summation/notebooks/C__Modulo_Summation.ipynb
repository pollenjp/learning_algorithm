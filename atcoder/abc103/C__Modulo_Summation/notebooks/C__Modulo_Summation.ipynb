{
 "cells": [
  {
   "cell_type": "markdown",
   "metadata": {
    "toc": true
   },
   "source": [
    "<h1>Table of Contents<span class=\"tocSkip\"></span></h1>\n",
    "<div class=\"toc\"><ul class=\"toc-item\"><li><span><a href=\"#解説\" data-toc-modified-id=\"解説-1\"><span class=\"toc-item-num\">1&nbsp;&nbsp;</span>解説</a></span></li><li><span><a href=\"#Code\" data-toc-modified-id=\"Code-2\"><span class=\"toc-item-num\">2&nbsp;&nbsp;</span>Code</a></span></li><li><span><a href=\"#Sample\" data-toc-modified-id=\"Sample-3\"><span class=\"toc-item-num\">3&nbsp;&nbsp;</span>Sample</a></span><ul class=\"toc-item\"><li><span><a href=\"#1\" data-toc-modified-id=\"1-3.1\"><span class=\"toc-item-num\">3.1&nbsp;&nbsp;</span>1</a></span></li><li><span><a href=\"#2\" data-toc-modified-id=\"2-3.2\"><span class=\"toc-item-num\">3.2&nbsp;&nbsp;</span>2</a></span></li><li><span><a href=\"#3\" data-toc-modified-id=\"3-3.3\"><span class=\"toc-item-num\">3.3&nbsp;&nbsp;</span>3</a></span></li></ul></li></ul></div>"
   ]
  },
  {
   "cell_type": "markdown",
   "metadata": {},
   "source": [
    "# C - Modulo Summation"
   ]
  },
  {
   "cell_type": "markdown",
   "metadata": {},
   "source": [
    "## 解説\n",
    "\n",
    "$$\n",
    "\\forall m, \\quad 0 \\le m \\ (mod \\ a_i) \\le a_i - 1 \n",
    "$$\n",
    "よって,$ 2 \\lt a_i$ より\n",
    "$$\n",
    "1 \\le f(m) \\le \\sum_{i=1}^{N} (a_i - 1)\n",
    "$$\n",
    "ここで\n",
    "$$\n",
    "m = \\prod_{i=1}^{N}a_i\n",
    "$$\n",
    "を取ると\n",
    "$$\n",
    "\\forall a_i, \\quad m-1 \\ ( mod \\ a_i ) = a_i - 1\n",
    "$$\n",
    "故に\n",
    "$$\n",
    "    \\exists m, \\quad s.t. \\  f(m) = \\sum_{i=1}^{N} (a_i - 1)\n",
    "$$\n",
    "\n",
    "以上より答えとなる $f(m)$ は $\\sum\\limits_{i=1}^{N} (a_i - 1)$ である."
   ]
  },
  {
   "cell_type": "markdown",
   "metadata": {},
   "source": [
    "## Code"
   ]
  },
  {
   "cell_type": "code",
   "execution_count": 56,
   "metadata": {},
   "outputs": [
    {
     "name": "stdout",
     "output_type": "stream",
     "text": [
      "\n",
      "\n"
     ]
    }
   ],
   "source": [
    "N = input()\n",
    "a = input()\n",
    "\n",
    "N = int(N)\n",
    "a = list(map(int, a.split(\" \")))\n",
    "\n",
    "m_max = sum(a) - len(a)\n",
    "print(\"m_max : {}\".format(m_max))"
   ]
  },
  {
   "cell_type": "markdown",
   "metadata": {},
   "source": [
    "## Sample"
   ]
  },
  {
   "cell_type": "code",
   "execution_count": null,
   "metadata": {},
   "outputs": [],
   "source": []
  },
  {
   "cell_type": "markdown",
   "metadata": {},
   "source": [
    "### 1"
   ]
  },
  {
   "cell_type": "code",
   "execution_count": 41,
   "metadata": {},
   "outputs": [],
   "source": [
    "N = \"3\"\n",
    "a = \"3 4 6\""
   ]
  },
  {
   "cell_type": "code",
   "execution_count": 42,
   "metadata": {},
   "outputs": [],
   "source": [
    "N = int(N)\n",
    "a = list(map(int, a.split(\" \")))"
   ]
  },
  {
   "cell_type": "code",
   "execution_count": 43,
   "metadata": {},
   "outputs": [
    {
     "name": "stdout",
     "output_type": "stream",
     "text": [
      "m_max : 10\n"
     ]
    }
   ],
   "source": [
    "m_max = sum(a) - len(a)\n",
    "print(\"m_max : {}\".format(m_max))"
   ]
  },
  {
   "cell_type": "markdown",
   "metadata": {},
   "source": [
    "### 2"
   ]
  },
  {
   "cell_type": "code",
   "execution_count": 49,
   "metadata": {},
   "outputs": [],
   "source": [
    "N = \"5\"\n",
    "a = \"7 46 11 20 11\""
   ]
  },
  {
   "cell_type": "code",
   "execution_count": 50,
   "metadata": {},
   "outputs": [],
   "source": [
    "N = int(N)\n",
    "a = list(map(int, a.split(\" \")))\n",
    "\n",
    "m_max = sum(a) - len(a)\n",
    "print(\"m_max : {}\".format(m_max))"
   ]
  },
  {
   "cell_type": "markdown",
   "metadata": {},
   "source": [
    "### 3"
   ]
  },
  {
   "cell_type": "code",
   "execution_count": 52,
   "metadata": {},
   "outputs": [],
   "source": [
    "N = \"6\"\n",
    "a = \"994 518 941 851 647 2 581\""
   ]
  },
  {
   "cell_type": "code",
   "execution_count": 53,
   "metadata": {},
   "outputs": [],
   "source": [
    "N = int(N)\n",
    "a = list(map(int, a.split(\" \")))\n",
    "\n",
    "m_max = sum(a) - len(a)\n",
    "print(\"m_max : {}\".format(m_max))"
   ]
  },
  {
   "cell_type": "code",
   "execution_count": null,
   "metadata": {},
   "outputs": [],
   "source": []
  }
 ],
 "metadata": {
  "kernelspec": {
   "display_name": "Python 3",
   "language": "python",
   "name": "python3"
  },
  "language_info": {
   "codemirror_mode": {
    "name": "ipython",
    "version": 3
   },
   "file_extension": ".py",
   "mimetype": "text/x-python",
   "name": "python",
   "nbconvert_exporter": "python",
   "pygments_lexer": "ipython3",
   "version": "3.5.2"
  },
  "toc": {
   "base_numbering": 1,
   "nav_menu": {},
   "number_sections": true,
   "sideBar": true,
   "skip_h1_title": true,
   "title_cell": "Table of Contents",
   "title_sidebar": "Contents",
   "toc_cell": true,
   "toc_position": {},
   "toc_section_display": true,
   "toc_window_display": true
  },
  "varInspector": {
   "cols": {
    "lenName": 16,
    "lenType": 16,
    "lenVar": 40
   },
   "kernels_config": {
    "python": {
     "delete_cmd_postfix": "",
     "delete_cmd_prefix": "del ",
     "library": "var_list.py",
     "varRefreshCmd": "print(var_dic_list())"
    },
    "r": {
     "delete_cmd_postfix": ") ",
     "delete_cmd_prefix": "rm(",
     "library": "var_list.r",
     "varRefreshCmd": "cat(var_dic_list()) "
    }
   },
   "types_to_exclude": [
    "module",
    "function",
    "builtin_function_or_method",
    "instance",
    "_Feature"
   ],
   "window_display": false
  }
 },
 "nbformat": 4,
 "nbformat_minor": 2
}

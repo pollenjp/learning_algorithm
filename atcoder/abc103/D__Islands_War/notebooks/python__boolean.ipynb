{
 "cells": [
  {
   "cell_type": "markdown",
   "metadata": {
    "toc": true
   },
   "source": [
    "<h1>Table of Contents<span class=\"tocSkip\"></span></h1>\n",
    "<div class=\"toc\"><ul class=\"toc-item\"><li><span><a href=\"#check-boolean\" data-toc-modified-id=\"check-boolean-1\"><span class=\"toc-item-num\">1&nbsp;&nbsp;</span>check boolean</a></span></li><li><span><a href=\"#Try\" data-toc-modified-id=\"Try-2\"><span class=\"toc-item-num\">2&nbsp;&nbsp;</span>Try</a></span><ul class=\"toc-item\"><li><span><a href=\"#sample01.in\" data-toc-modified-id=\"sample01.in-2.1\"><span class=\"toc-item-num\">2.1&nbsp;&nbsp;</span>sample01.in</a></span></li></ul></li><li><span><a href=\"#Solve\" data-toc-modified-id=\"Solve-3\"><span class=\"toc-item-num\">3&nbsp;&nbsp;</span>Solve</a></span><ul class=\"toc-item\"><li><span><a href=\"#Input\" data-toc-modified-id=\"Input-3.1\"><span class=\"toc-item-num\">3.1&nbsp;&nbsp;</span>Input</a></span></li><li><span><a href=\"#solve\" data-toc-modified-id=\"solve-3.2\"><span class=\"toc-item-num\">3.2&nbsp;&nbsp;</span>solve</a></span></li></ul></li><li><span><a href=\"#Answer\" data-toc-modified-id=\"Answer-4\"><span class=\"toc-item-num\">4&nbsp;&nbsp;</span>Answer</a></span></li><li><span><a href=\"#Sample\" data-toc-modified-id=\"Sample-5\"><span class=\"toc-item-num\">5&nbsp;&nbsp;</span>Sample</a></span><ul class=\"toc-item\"><li><span><a href=\"#sample01.in\" data-toc-modified-id=\"sample01.in-5.1\"><span class=\"toc-item-num\">5.1&nbsp;&nbsp;</span>sample01.in</a></span></li><li><span><a href=\"#sample02.in\" data-toc-modified-id=\"sample02.in-5.2\"><span class=\"toc-item-num\">5.2&nbsp;&nbsp;</span>sample02.in</a></span></li><li><span><a href=\"#sample03.in\" data-toc-modified-id=\"sample03.in-5.3\"><span class=\"toc-item-num\">5.3&nbsp;&nbsp;</span>sample03.in</a></span></li></ul></li></ul></div>"
   ]
  },
  {
   "cell_type": "markdown",
   "metadata": {},
   "source": [
    "# D - Islands War"
   ]
  },
  {
   "cell_type": "code",
   "execution_count": 2,
   "metadata": {},
   "outputs": [],
   "source": [
    "import os\n",
    "from pathlib import Path\n",
    "\n",
    "import pprint"
   ]
  },
  {
   "cell_type": "code",
   "execution_count": 3,
   "metadata": {},
   "outputs": [
    {
     "data": {
      "text/plain": [
       "PosixPath('/home/pollen/workdir/git/learning_algorithm/atcoder/abc103/D__Islands_War')"
      ]
     },
     "execution_count": 3,
     "metadata": {},
     "output_type": "execute_result"
    }
   ],
   "source": [
    "HOME = Path(os.getcwd()).parent\n",
    "HOME"
   ]
  },
  {
   "cell_type": "code",
   "execution_count": 4,
   "metadata": {},
   "outputs": [],
   "source": [
    "data_Path = HOME / \"data\""
   ]
  },
  {
   "cell_type": "markdown",
   "metadata": {},
   "source": [
    "## check boolean\n",
    "\n",
    "注意: [How to apply a logical operator to all elements in a python list - Stack Overflow](\n",
    "    https://stackoverflow.com/questions/1790520/how-to-apply-a-logical-operator-to-all-elements-in-a-python-list/1790532)"
   ]
  },
  {
   "cell_type": "code",
   "execution_count": 130,
   "metadata": {},
   "outputs": [
    {
     "name": "stdout",
     "output_type": "stream",
     "text": [
      "[False, True]\n",
      "[False, True]\n",
      "[True, True]\n",
      "[True, True]\n"
     ]
    }
   ],
   "source": [
    "# test\n",
    "aaa = [True, True]\n",
    "bbb = [False, True]\n",
    "print([aaa[i] and bbb[i] for i in range(len(aaa))])\n",
    "print([bbb[i] and aaa[i] for i in range(len(aaa))])\n",
    "print([aaa[i] or bbb[i] for i in range(len(aaa))])\n",
    "print([bbb[i] or aaa[i] for i in range(len(aaa))])"
   ]
  },
  {
   "cell_type": "code",
   "execution_count": 38,
   "metadata": {},
   "outputs": [
    {
     "data": {
      "text/plain": [
       "'0b1010'"
      ]
     },
     "execution_count": 38,
     "metadata": {},
     "output_type": "execute_result"
    }
   ],
   "source": [
    "# test\n",
    "bin(5<<1)"
   ]
  },
  {
   "cell_type": "code",
   "execution_count": 39,
   "metadata": {},
   "outputs": [
    {
     "name": "stdout",
     "output_type": "stream",
     "text": [
      "<class 'int'>\n",
      "<class 'int'>\n",
      "0b100000\n"
     ]
    }
   ],
   "source": [
    "aaa = 0b1\n",
    "print(type(aaa))\n",
    "aaa = aaa << 5\n",
    "print(type(aaa))\n",
    "print(bin(aaa))"
   ]
  },
  {
   "cell_type": "code",
   "execution_count": 40,
   "metadata": {},
   "outputs": [
    {
     "name": "stdout",
     "output_type": "stream",
     "text": [
      "aaa: 0b100000\n",
      "bbb: 0b100\n",
      "0b0\n",
      "0b100100\n"
     ]
    }
   ],
   "source": [
    "bbb = 0b100\n",
    "print(\"aaa: {}\".format(bin(aaa)))\n",
    "print(\"bbb: {}\".format(bin(bbb)))\n",
    "print(bin(aaa & bbb))\n",
    "print(bin(aaa | bbb))"
   ]
  },
  {
   "cell_type": "markdown",
   "metadata": {},
   "source": [
    "## Try"
   ]
  },
  {
   "cell_type": "markdown",
   "metadata": {},
   "source": [
    "### sample01.in"
   ]
  },
  {
   "cell_type": "code",
   "execution_count": 131,
   "metadata": {},
   "outputs": [
    {
     "name": "stdout",
     "output_type": "stream",
     "text": [
      "[1, 2] [4, 5]\n"
     ]
    }
   ],
   "source": [
    "N, M = 5, 2\n",
    "a, b = [], []\n",
    "a.append(1)\n",
    "b.append(4)\n",
    "a.append(2)\n",
    "b.append(5)\n",
    "print(a, b)"
   ]
  },
  {
   "cell_type": "code",
   "execution_count": 132,
   "metadata": {},
   "outputs": [],
   "source": [
    "filename = str(data_Path / \"sample02.in\")\n",
    "with open(file=filename, mode=\"rt\") as f:\n",
    "    [N, M] = list(map(int, f.readline().rstrip().split(\" \")))\n",
    "    a, b = [], []\n",
    "    for i in range(M):\n",
    "        [_a, _b] = list(map(int, f.readline().rstrip().split(\" \")))\n",
    "        a.append(_a)\n",
    "        b.append(_b)"
   ]
  },
  {
   "cell_type": "code",
   "execution_count": 133,
   "metadata": {},
   "outputs": [
    {
     "name": "stdout",
     "output_type": "stream",
     "text": [
      "[[True, True, True, True, True, True, True, False],\n",
      " [False, True, True, True, True, True, False, False],\n",
      " [False, False, True, True, False, False, False, False],\n",
      " [False, False, False, True, True, False, False, False],\n",
      " [False, False, False, False, False, False, True, True]]\n"
     ]
    }
   ],
   "source": [
    "# 切断したい橋の候補をboolean値で表す\n",
    "bool_list = []\n",
    "for i in range(M):\n",
    "    bool_list.append([True if (a[i] <= j+1) and (j+1 < b[i]) else False for j in range(N-1) ])\n",
    "pprint.pprint(bool_list)"
   ]
  },
  {
   "cell_type": "markdown",
   "metadata": {},
   "source": [
    "andを取っていき、結果がすべてFalseになった場合は一度スタックに貯めて以降もう一度行う"
   ]
  },
  {
   "cell_type": "code",
   "execution_count": 134,
   "metadata": {},
   "outputs": [
    {
     "name": "stdout",
     "output_type": "stream",
     "text": [
      "2\n",
      "1\n",
      "0\n"
     ]
    }
   ],
   "source": [
    "# test\n",
    "aaa = [True, True]\n",
    "bbb = [True, False]\n",
    "ccc = [False, False]\n",
    "print(sum(aaa))\n",
    "print(sum(bbb))\n",
    "print(sum(ccc))"
   ]
  },
  {
   "cell_type": "markdown",
   "metadata": {},
   "source": [
    "「すべてFalseになった場合」とはsumが0のときをいう"
   ]
  },
  {
   "cell_type": "code",
   "execution_count": 135,
   "metadata": {},
   "outputs": [
    {
     "name": "stdout",
     "output_type": "stream",
     "text": [
      "S: [[[True, True, True, True, True, True, True, False], [False, True, True, True, True, True, False, False], [False, False, True, True, False, False, False, False], [False, False, False, True, True, False, False, False], [False, False, False, False, False, False, True, True]]]\n",
      "C1: [[True, True, True, True, True, True, True, False], [False, True, True, True, True, True, False, False], [False, False, True, True, False, False, False, False], [False, False, False, True, True, False, False, False], [False, False, False, False, False, False, True, True]]\n",
      "l1: [True, True, True, True, True, True, True, False]\n",
      "l2: [False, True, True, True, True, True, False, False]\n",
      "l3: [False, True, True, True, True, True, False, False]\n",
      "l1: [False, True, True, True, True, True, False, False]\n",
      "l2: [False, False, True, True, False, False, False, False]\n",
      "l3: [False, False, True, True, False, False, False, False]\n",
      "l1: [False, False, True, True, False, False, False, False]\n",
      "l2: [False, False, False, True, True, False, False, False]\n",
      "l3: [False, False, False, True, False, False, False, False]\n",
      "l1: [False, False, False, True, False, False, False, False]\n",
      "l2: [False, False, False, False, False, False, True, True]\n",
      "l3: [False, False, False, False, False, False, False, False]\n",
      "C2: [[False, False, False, False, False, False, True, True]]\n",
      "C1: [[False, False, False, False, False, False, True, True]]\n",
      "C2: []\n"
     ]
    },
    {
     "data": {
      "text/plain": [
       "2"
      ]
     },
     "execution_count": 135,
     "metadata": {},
     "output_type": "execute_result"
    }
   ],
   "source": [
    "S = [bool_list]\n",
    "counter = 0\n",
    "while S:\n",
    "    C1 = S.pop()\n",
    "    C2 = []\n",
    "    l1 = C1.pop(0)\n",
    "    for l2 in C1:\n",
    "        l3 = l1 and l2\n",
    "        l3 = [l1[i] and l2[i] for i in range(len(l1))]\n",
    "        if sum(l3) == 0:\n",
    "            # 積が「すべてFalseになった場合」は別のループを回す\n",
    "            C2.append(l2)\n",
    "        else:\n",
    "            l1 = l3\n",
    "    if C2:\n",
    "        # 別のループを回すためにSにpush\n",
    "        S.append(C2)\n",
    "    counter += 1\n",
    "counter"
   ]
  },
  {
   "cell_type": "markdown",
   "metadata": {},
   "source": [
    "## Solve"
   ]
  },
  {
   "cell_type": "markdown",
   "metadata": {},
   "source": [
    "### Input"
   ]
  },
  {
   "cell_type": "raw",
   "metadata": {},
   "source": [
    "[N, M] = list(map(int, input().rstrip().split(\" \")))\n",
    "a, b = [], []\n",
    "for i in range(M):\n",
    "    [_a, _b] = list(map(int, input().rstrip().split(\" \")))\n",
    "    a.append(_a)\n",
    "    b.append(_b)"
   ]
  },
  {
   "cell_type": "markdown",
   "metadata": {},
   "source": [
    "### solve"
   ]
  },
  {
   "cell_type": "code",
   "execution_count": 11,
   "metadata": {},
   "outputs": [],
   "source": [
    "def solve(N, M, a, b):\n",
    "    # 切断したい橋の候補をboolean値で表す\n",
    "    bool_list = []\n",
    "    for i in range(M):\n",
    "        bool_list.append([True if (a[i] <= j+1) and (j+1 < b[i]) else False for j in range(N-1) ])\n",
    "\n",
    "    S = [bool_list]\n",
    "    counter = 0\n",
    "    while S:\n",
    "        C1 = S.pop()\n",
    "        C2 = []\n",
    "        l1 = C1.pop(0)\n",
    "        for l2 in C1:\n",
    "            l3 = l1 and l2\n",
    "            l3 = [l1[i] and l2[i] for i in range(len(l1))]\n",
    "            if sum(l3) == 0:\n",
    "                # 積が「すべてFalseになった場合」は別のループを回す\n",
    "                C2.append(l2)\n",
    "            else:\n",
    "                l1 = l3\n",
    "        if C2:\n",
    "            # 別のループを回すためにSにpush\n",
    "            S.append(C2)\n",
    "        counter += 1\n",
    "    return counter"
   ]
  },
  {
   "cell_type": "markdown",
   "metadata": {},
   "source": [
    "## Answer"
   ]
  },
  {
   "cell_type": "code",
   "execution_count": null,
   "metadata": {},
   "outputs": [],
   "source": [
    "def main():\n",
    "    # Input\n",
    "    [N, M] = list(map(int, input().rstrip().split(\" \")))\n",
    "    a, b = [], []\n",
    "    for i in range(M):\n",
    "        [_a, _b] = list(map(int, input().rstrip().split(\" \")))\n",
    "        a.append(_a)\n",
    "        b.append(_b)\n",
    "    output = solve(N, M, a, b)\n",
    "    print(output)\n",
    "\n",
    "def solve(N, M, a, b):\n",
    "    # 切断したい橋の候補をboolean値で表す\n",
    "    bool_list = []\n",
    "    for i in range(M):\n",
    "        bool_list.append([True if (a[i] <= j+1) and (j+1 < b[i]) else False for j in range(N-1) ])\n",
    "\n",
    "    S = [bool_list]\n",
    "    counter = 0\n",
    "    while S:\n",
    "        C1 = S.pop()\n",
    "        C2 = []\n",
    "        l1 = C1.pop(0)\n",
    "        for l2 in C1:\n",
    "            l3 = l1 and l2\n",
    "            l3 = [l1[i] and l2[i] for i in range(len(l1))]\n",
    "            if sum(l3) == 0:\n",
    "                # 積が「すべてFalseになった場合」は別のループを回す\n",
    "                C2.append(l2)\n",
    "            else:\n",
    "                l1 = l3\n",
    "        if C2:\n",
    "            # 別のループを回すためにSにpush\n",
    "            S.append(C2)\n",
    "        counter += 1\n",
    "    return counter\n",
    "\n",
    "if __name__ == \"__main__\":\n",
    "    main()"
   ]
  },
  {
   "cell_type": "markdown",
   "metadata": {},
   "source": [
    "## Sample"
   ]
  },
  {
   "cell_type": "markdown",
   "metadata": {},
   "source": [
    "### sample01.in"
   ]
  },
  {
   "cell_type": "code",
   "execution_count": 12,
   "metadata": {},
   "outputs": [],
   "source": [
    "filename = str(data_Path / \"sample01.in\")\n",
    "with open(file=filename, mode=\"rt\") as f:\n",
    "    [N, M] = list(map(int, f.readline().rstrip().split(\" \")))\n",
    "    a, b = [], []\n",
    "    for i in range(M):\n",
    "        [_a, _b] = list(map(int, f.readline().rstrip().split(\" \")))\n",
    "        a.append(_a)\n",
    "        b.append(_b)"
   ]
  },
  {
   "cell_type": "code",
   "execution_count": 13,
   "metadata": {},
   "outputs": [
    {
     "data": {
      "text/plain": [
       "1"
      ]
     },
     "execution_count": 13,
     "metadata": {},
     "output_type": "execute_result"
    }
   ],
   "source": [
    "solve(N=N, M=M, a=a, b=b)"
   ]
  },
  {
   "cell_type": "markdown",
   "metadata": {},
   "source": [
    "### sample02.in"
   ]
  },
  {
   "cell_type": "code",
   "execution_count": 14,
   "metadata": {},
   "outputs": [],
   "source": [
    "filename = str(data_Path / \"sample02.in\")\n",
    "with open(file=filename, mode=\"rt\") as f:\n",
    "    [N, M] = list(map(int, f.readline().rstrip().split(\" \")))\n",
    "    a, b = [], []\n",
    "    for i in range(M):\n",
    "        [_a, _b] = list(map(int, f.readline().rstrip().split(\" \")))\n",
    "        a.append(_a)\n",
    "        b.append(_b)"
   ]
  },
  {
   "cell_type": "code",
   "execution_count": 15,
   "metadata": {},
   "outputs": [
    {
     "data": {
      "text/plain": [
       "2"
      ]
     },
     "execution_count": 15,
     "metadata": {},
     "output_type": "execute_result"
    }
   ],
   "source": [
    "solve(N=N, M=M, a=a, b=b)"
   ]
  },
  {
   "cell_type": "markdown",
   "metadata": {},
   "source": [
    "### sample03.in"
   ]
  },
  {
   "cell_type": "code",
   "execution_count": 16,
   "metadata": {},
   "outputs": [],
   "source": [
    "filename = str(data_Path / \"sample03.in\")\n",
    "with open(file=filename, mode=\"rt\") as f:\n",
    "    [N, M] = list(map(int, f.readline().rstrip().split(\" \")))\n",
    "    a, b = [], []\n",
    "    for i in range(M):\n",
    "        [_a, _b] = list(map(int, f.readline().rstrip().split(\" \")))\n",
    "        a.append(_a)\n",
    "        b.append(_b)"
   ]
  },
  {
   "cell_type": "code",
   "execution_count": 17,
   "metadata": {},
   "outputs": [
    {
     "data": {
      "text/plain": [
       "4"
      ]
     },
     "execution_count": 17,
     "metadata": {},
     "output_type": "execute_result"
    }
   ],
   "source": [
    "solve(N=N, M=M, a=a, b=b)"
   ]
  },
  {
   "cell_type": "code",
   "execution_count": null,
   "metadata": {},
   "outputs": [],
   "source": []
  }
 ],
 "metadata": {
  "kernelspec": {
   "display_name": "Python 3",
   "language": "python",
   "name": "python3"
  },
  "language_info": {
   "codemirror_mode": {
    "name": "ipython",
    "version": 3
   },
   "file_extension": ".py",
   "mimetype": "text/x-python",
   "name": "python",
   "nbconvert_exporter": "python",
   "pygments_lexer": "ipython3",
   "version": "3.5.2"
  },
  "toc": {
   "base_numbering": 1,
   "nav_menu": {},
   "number_sections": true,
   "sideBar": true,
   "skip_h1_title": true,
   "title_cell": "Table of Contents",
   "title_sidebar": "Contents",
   "toc_cell": true,
   "toc_position": {
    "height": "429px",
    "left": "80px",
    "top": "111.133px",
    "width": "265px"
   },
   "toc_section_display": true,
   "toc_window_display": true
  },
  "varInspector": {
   "cols": {
    "lenName": 16,
    "lenType": 16,
    "lenVar": 40
   },
   "kernels_config": {
    "python": {
     "delete_cmd_postfix": "",
     "delete_cmd_prefix": "del ",
     "library": "var_list.py",
     "varRefreshCmd": "print(var_dic_list())"
    },
    "r": {
     "delete_cmd_postfix": ") ",
     "delete_cmd_prefix": "rm(",
     "library": "var_list.r",
     "varRefreshCmd": "cat(var_dic_list()) "
    }
   },
   "types_to_exclude": [
    "module",
    "function",
    "builtin_function_or_method",
    "instance",
    "_Feature"
   ],
   "window_display": false
  }
 },
 "nbformat": 4,
 "nbformat_minor": 2
}

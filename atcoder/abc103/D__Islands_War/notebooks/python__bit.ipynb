{
 "cells": [
  {
   "cell_type": "markdown",
   "metadata": {
    "toc": true
   },
   "source": [
    "<h1>Table of Contents<span class=\"tocSkip\"></span></h1>\n",
    "<div class=\"toc\"><ul class=\"toc-item\"><li><span><a href=\"#check-bit-operation\" data-toc-modified-id=\"check-bit-operation-1\"><span class=\"toc-item-num\">1&nbsp;&nbsp;</span>check bit operation</a></span></li><li><span><a href=\"#Try\" data-toc-modified-id=\"Try-2\"><span class=\"toc-item-num\">2&nbsp;&nbsp;</span>Try</a></span><ul class=\"toc-item\"><li><span><a href=\"#sample02.in\" data-toc-modified-id=\"sample02.in-2.1\"><span class=\"toc-item-num\">2.1&nbsp;&nbsp;</span>sample02.in</a></span></li></ul></li><li><span><a href=\"#Solve\" data-toc-modified-id=\"Solve-3\"><span class=\"toc-item-num\">3&nbsp;&nbsp;</span>Solve</a></span><ul class=\"toc-item\"><li><span><a href=\"#Input\" data-toc-modified-id=\"Input-3.1\"><span class=\"toc-item-num\">3.1&nbsp;&nbsp;</span>Input</a></span></li><li><span><a href=\"#solve\" data-toc-modified-id=\"solve-3.2\"><span class=\"toc-item-num\">3.2&nbsp;&nbsp;</span>solve</a></span></li></ul></li><li><span><a href=\"#Answer\" data-toc-modified-id=\"Answer-4\"><span class=\"toc-item-num\">4&nbsp;&nbsp;</span>Answer</a></span></li><li><span><a href=\"#Sample\" data-toc-modified-id=\"Sample-5\"><span class=\"toc-item-num\">5&nbsp;&nbsp;</span>Sample</a></span><ul class=\"toc-item\"><li><span><a href=\"#sample01.in\" data-toc-modified-id=\"sample01.in-5.1\"><span class=\"toc-item-num\">5.1&nbsp;&nbsp;</span>sample01.in</a></span></li><li><span><a href=\"#sample02.in\" data-toc-modified-id=\"sample02.in-5.2\"><span class=\"toc-item-num\">5.2&nbsp;&nbsp;</span>sample02.in</a></span></li><li><span><a href=\"#sample03.in\" data-toc-modified-id=\"sample03.in-5.3\"><span class=\"toc-item-num\">5.3&nbsp;&nbsp;</span>sample03.in</a></span></li></ul></li></ul></div>"
   ]
  },
  {
   "cell_type": "markdown",
   "metadata": {},
   "source": [
    "# D - Islands War"
   ]
  },
  {
   "cell_type": "code",
   "execution_count": 26,
   "metadata": {
    "ExecuteTime": {
     "end_time": "2018-08-15T01:19:41.162738Z",
     "start_time": "2018-08-15T01:19:41.159161Z"
    }
   },
   "outputs": [],
   "source": [
    "import os\n",
    "from pathlib import Path\n",
    "\n",
    "import pprint"
   ]
  },
  {
   "cell_type": "code",
   "execution_count": 27,
   "metadata": {
    "ExecuteTime": {
     "end_time": "2018-08-15T01:19:41.793658Z",
     "start_time": "2018-08-15T01:19:41.786786Z"
    }
   },
   "outputs": [
    {
     "data": {
      "text/plain": [
       "PosixPath('/home/pollen/workdir/git/learning_algorithm/atcoder/abc103/D__Islands_War')"
      ]
     },
     "execution_count": 27,
     "metadata": {},
     "output_type": "execute_result"
    }
   ],
   "source": [
    "HOME = Path(os.getcwd()).parent\n",
    "HOME"
   ]
  },
  {
   "cell_type": "code",
   "execution_count": 28,
   "metadata": {
    "ExecuteTime": {
     "end_time": "2018-08-15T01:19:42.146038Z",
     "start_time": "2018-08-15T01:19:42.142648Z"
    }
   },
   "outputs": [],
   "source": [
    "data_Path = HOME / \"data\""
   ]
  },
  {
   "cell_type": "markdown",
   "metadata": {},
   "source": [
    "## check bit operation\n",
    "https://wiki.python.org/moin/BitwiseOperators"
   ]
  },
  {
   "cell_type": "code",
   "execution_count": 29,
   "metadata": {
    "ExecuteTime": {
     "end_time": "2018-08-15T01:19:42.493523Z",
     "start_time": "2018-08-15T01:19:42.489360Z"
    }
   },
   "outputs": [
    {
     "data": {
      "text/plain": [
       "'0b1010'"
      ]
     },
     "execution_count": 29,
     "metadata": {},
     "output_type": "execute_result"
    }
   ],
   "source": [
    "# test\n",
    "bin(5<<1)"
   ]
  },
  {
   "cell_type": "code",
   "execution_count": 30,
   "metadata": {
    "ExecuteTime": {
     "end_time": "2018-08-15T01:19:42.805116Z",
     "start_time": "2018-08-15T01:19:42.799905Z"
    }
   },
   "outputs": [
    {
     "name": "stdout",
     "output_type": "stream",
     "text": [
      "<class 'int'>\n",
      "<class 'int'>\n",
      "0b100000\n"
     ]
    }
   ],
   "source": [
    "aaa = 0b1\n",
    "print(type(aaa))\n",
    "aaa = aaa << 5\n",
    "print(type(aaa))\n",
    "print(bin(aaa))"
   ]
  },
  {
   "cell_type": "code",
   "execution_count": 31,
   "metadata": {
    "ExecuteTime": {
     "end_time": "2018-08-15T01:19:43.112302Z",
     "start_time": "2018-08-15T01:19:43.108438Z"
    }
   },
   "outputs": [
    {
     "name": "stdout",
     "output_type": "stream",
     "text": [
      "aaa: 0b100000\n",
      "bbb: 0b100\n",
      "0b0\n",
      "0b100100\n"
     ]
    }
   ],
   "source": [
    "bbb = 0b100\n",
    "print(\"aaa: {}\".format(bin(aaa)))\n",
    "print(\"bbb: {}\".format(bin(bbb)))\n",
    "print(bin(aaa & bbb))\n",
    "print(bin(aaa | bbb))"
   ]
  },
  {
   "cell_type": "markdown",
   "metadata": {},
   "source": [
    "## Try"
   ]
  },
  {
   "cell_type": "markdown",
   "metadata": {},
   "source": [
    "### sample02.in"
   ]
  },
  {
   "cell_type": "code",
   "execution_count": 32,
   "metadata": {
    "ExecuteTime": {
     "end_time": "2018-08-15T01:19:44.479818Z",
     "start_time": "2018-08-15T01:19:44.475448Z"
    }
   },
   "outputs": [],
   "source": [
    "filename = str(data_Path / \"sample02.in\")\n",
    "with open(file=filename, mode=\"rt\") as f:\n",
    "    [N, M] = list(map(int, f.readline().rstrip().split(\" \")))\n",
    "    a, b = [], []\n",
    "    for i in range(M):\n",
    "        [_a, _b] = list(map(int, f.readline().rstrip().split(\" \")))\n",
    "        a.append(_a)\n",
    "        b.append(_b)"
   ]
  },
  {
   "cell_type": "code",
   "execution_count": 35,
   "metadata": {
    "ExecuteTime": {
     "end_time": "2018-08-15T01:20:53.882922Z",
     "start_time": "2018-08-15T01:20:53.873385Z"
    }
   },
   "outputs": [
    {
     "name": "stdout",
     "output_type": "stream",
     "text": [
      "[510, 124, 48, 24, 3]\n"
     ]
    }
   ],
   "source": [
    "# 切断したい橋の候補をbit値で表す\n",
    "bool_list = []\n",
    "for i in range(M):\n",
    "    val1 = 0b0\n",
    "    if a[i] == 1:\n",
    "        val1 = 0b1\n",
    "    else:\n",
    "        val1 = val1 << (a[i]-2)\n",
    "    val2 = b[i] - a[i]\n",
    "\n",
    "    # (val2)bitの1を加える\n",
    "    val1 = val1 << val2\n",
    "    val1 = val1 | (2**val2-1)\n",
    "\n",
    "    val3 = N - b[i]\n",
    "    val1 = val1 << val3\n",
    "\n",
    "    bool_list.append(val1)\n",
    "print(bool_list)"
   ]
  },
  {
   "cell_type": "markdown",
   "metadata": {},
   "source": [
    "andを取っていき、結果がすべてFalseになった場合は一度スタックに貯めて以降もう一度行う"
   ]
  },
  {
   "cell_type": "markdown",
   "metadata": {},
   "source": [
    "「すべてFalseになった場合」とはsumが0のときをいう"
   ]
  },
  {
   "cell_type": "code",
   "execution_count": 36,
   "metadata": {
    "ExecuteTime": {
     "end_time": "2018-08-15T01:22:14.254107Z",
     "start_time": "2018-08-15T01:22:14.243264Z"
    }
   },
   "outputs": [
    {
     "data": {
      "text/plain": [
       "2"
      ]
     },
     "execution_count": 36,
     "metadata": {},
     "output_type": "execute_result"
    }
   ],
   "source": [
    "S = [bool_list]\n",
    "counter = 0\n",
    "while S:\n",
    "    C1 = S.pop()\n",
    "    C2 = []\n",
    "    l1 = C1.pop(0)\n",
    "    for l2 in C1:\n",
    "        l3 = l1 & l2\n",
    "        if l3 == 0:\n",
    "            # 積が「すべてFalseになった場合」は別のループを回す\n",
    "            C2.append(l2)\n",
    "        else:\n",
    "            l1 = l3\n",
    "    if C2:\n",
    "        # 別のループを回すためにSにpush\n",
    "        S.append(C2)\n",
    "    counter += 1\n",
    "counter"
   ]
  },
  {
   "cell_type": "markdown",
   "metadata": {},
   "source": [
    "## Solve"
   ]
  },
  {
   "cell_type": "markdown",
   "metadata": {},
   "source": [
    "### Input"
   ]
  },
  {
   "cell_type": "raw",
   "metadata": {},
   "source": [
    "[N, M] = list(map(int, input().rstrip().split(\" \")))\n",
    "a, b = [], []\n",
    "for i in range(M):\n",
    "    [_a, _b] = list(map(int, input().rstrip().split(\" \")))\n",
    "    a.append(_a)\n",
    "    b.append(_b)"
   ]
  },
  {
   "cell_type": "markdown",
   "metadata": {},
   "source": [
    "### solve"
   ]
  },
  {
   "cell_type": "code",
   "execution_count": 40,
   "metadata": {
    "ExecuteTime": {
     "end_time": "2018-08-15T01:24:02.398686Z",
     "start_time": "2018-08-15T01:24:02.384395Z"
    }
   },
   "outputs": [],
   "source": [
    "def solve(N, M, a, b):\n",
    "    # 切断したい橋の候補をbit値で表す\n",
    "    bool_list = []\n",
    "    for i in range(M):\n",
    "        val1 = 0b0\n",
    "        if a[i] == 1:\n",
    "            val1 = 0b1\n",
    "        else:\n",
    "            val1 = val1 << (a[i]-2)\n",
    "        val2 = b[i] - a[i]\n",
    "\n",
    "        # (val2)bitの1を加える\n",
    "        val1 = val1 << val2\n",
    "        val1 = val1 | (2**val2-1)\n",
    "\n",
    "        val3 = N - b[i]\n",
    "        val1 = val1 << val3\n",
    "\n",
    "        bool_list.append(val1)\n",
    "\n",
    "\n",
    "    S = [bool_list]\n",
    "    counter = 0\n",
    "    while S:\n",
    "        C1 = S.pop()\n",
    "        C2 = []\n",
    "        l1 = C1.pop(0)\n",
    "        for l2 in C1:\n",
    "            l3 = l1 & l2\n",
    "            if l3 == 0:\n",
    "                # 積が「すべてFalseになった場合」は別のループを回す\n",
    "                C2.append(l2)\n",
    "            else:\n",
    "                l1 = l3\n",
    "        if C2:\n",
    "            # 別のループを回すためにSにpush\n",
    "            S.append(C2)\n",
    "        counter += 1\n",
    "    return counter"
   ]
  },
  {
   "cell_type": "markdown",
   "metadata": {},
   "source": [
    "## Answer"
   ]
  },
  {
   "cell_type": "raw",
   "metadata": {
    "ExecuteTime": {
     "end_time": "2018-08-15T01:24:37.249974Z",
     "start_time": "2018-08-15T01:24:35.357086Z"
    }
   },
   "source": [
    "def main():\n",
    "    # Input\n",
    "    [N, M] = list(map(int, input().rstrip().split(\" \")))\n",
    "    a, b = [], []\n",
    "    for i in range(M):\n",
    "        [_a, _b] = list(map(int, input().rstrip().split(\" \")))\n",
    "        a.append(_a)\n",
    "        b.append(_b)\n",
    "    output = solve(N, M, a, b)\n",
    "    print(output)\n",
    "\n",
    "def solve(N, M, a, b):\n",
    "    # 切断したい橋の候補をbit値で表す\n",
    "    bool_list = []\n",
    "    for i in range(M):\n",
    "        val1 = 0b0\n",
    "        if a[i] == 1:\n",
    "            val1 = 0b1\n",
    "        else:\n",
    "            val1 = val1 << (a[i]-2)\n",
    "        val2 = b[i] - a[i]\n",
    "\n",
    "        # (val2)bitの1を加える\n",
    "        val1 = val1 << val2\n",
    "        val1 = val1 | (2**val2-1)\n",
    "\n",
    "        val3 = N - b[i]\n",
    "        val1 = val1 << val3\n",
    "\n",
    "        bool_list.append(val1)\n",
    "\n",
    "\n",
    "    S = [bool_list]\n",
    "    counter = 0\n",
    "    while S:\n",
    "        C1 = S.pop()\n",
    "        C2 = []\n",
    "        l1 = C1.pop(0)\n",
    "        for l2 in C1:\n",
    "            l3 = l1 & l2\n",
    "            if l3 == 0:\n",
    "                # 積が「すべてFalseになった場合」は別のループを回す\n",
    "                C2.append(l2)\n",
    "            else:\n",
    "                l1 = l3\n",
    "        if C2:\n",
    "            # 別のループを回すためにSにpush\n",
    "            S.append(C2)\n",
    "        counter += 1\n",
    "    return counter\n",
    "\n",
    "if __name__ == \"__main__\":\n",
    "    main()"
   ]
  },
  {
   "cell_type": "markdown",
   "metadata": {},
   "source": [
    "## Sample"
   ]
  },
  {
   "cell_type": "markdown",
   "metadata": {},
   "source": [
    "### sample01.in"
   ]
  },
  {
   "cell_type": "code",
   "execution_count": 41,
   "metadata": {
    "ExecuteTime": {
     "end_time": "2018-08-15T01:24:05.218765Z",
     "start_time": "2018-08-15T01:24:05.209566Z"
    }
   },
   "outputs": [],
   "source": [
    "filename = str(data_Path / \"sample01.in\")\n",
    "with open(file=filename, mode=\"rt\") as f:\n",
    "    [N, M] = list(map(int, f.readline().rstrip().split(\" \")))\n",
    "    a, b = [], []\n",
    "    for i in range(M):\n",
    "        [_a, _b] = list(map(int, f.readline().rstrip().split(\" \")))\n",
    "        a.append(_a)\n",
    "        b.append(_b)"
   ]
  },
  {
   "cell_type": "code",
   "execution_count": 42,
   "metadata": {
    "ExecuteTime": {
     "end_time": "2018-08-15T01:24:07.912717Z",
     "start_time": "2018-08-15T01:24:07.902908Z"
    }
   },
   "outputs": [
    {
     "data": {
      "text/plain": [
       "1"
      ]
     },
     "execution_count": 42,
     "metadata": {},
     "output_type": "execute_result"
    }
   ],
   "source": [
    "solve(N=N, M=M, a=a, b=b)"
   ]
  },
  {
   "cell_type": "markdown",
   "metadata": {},
   "source": [
    "### sample02.in"
   ]
  },
  {
   "cell_type": "code",
   "execution_count": 43,
   "metadata": {
    "ExecuteTime": {
     "end_time": "2018-08-15T01:24:11.136052Z",
     "start_time": "2018-08-15T01:24:11.130899Z"
    }
   },
   "outputs": [],
   "source": [
    "filename = str(data_Path / \"sample02.in\")\n",
    "with open(file=filename, mode=\"rt\") as f:\n",
    "    [N, M] = list(map(int, f.readline().rstrip().split(\" \")))\n",
    "    a, b = [], []\n",
    "    for i in range(M):\n",
    "        [_a, _b] = list(map(int, f.readline().rstrip().split(\" \")))\n",
    "        a.append(_a)\n",
    "        b.append(_b)"
   ]
  },
  {
   "cell_type": "code",
   "execution_count": 44,
   "metadata": {
    "ExecuteTime": {
     "end_time": "2018-08-15T01:24:11.469750Z",
     "start_time": "2018-08-15T01:24:11.464961Z"
    }
   },
   "outputs": [
    {
     "data": {
      "text/plain": [
       "2"
      ]
     },
     "execution_count": 44,
     "metadata": {},
     "output_type": "execute_result"
    }
   ],
   "source": [
    "solve(N=N, M=M, a=a, b=b)"
   ]
  },
  {
   "cell_type": "markdown",
   "metadata": {},
   "source": [
    "### sample03.in"
   ]
  },
  {
   "cell_type": "code",
   "execution_count": 45,
   "metadata": {
    "ExecuteTime": {
     "end_time": "2018-08-15T01:24:14.474368Z",
     "start_time": "2018-08-15T01:24:14.468759Z"
    }
   },
   "outputs": [],
   "source": [
    "filename = str(data_Path / \"sample03.in\")\n",
    "with open(file=filename, mode=\"rt\") as f:\n",
    "    [N, M] = list(map(int, f.readline().rstrip().split(\" \")))\n",
    "    a, b = [], []\n",
    "    for i in range(M):\n",
    "        [_a, _b] = list(map(int, f.readline().rstrip().split(\" \")))\n",
    "        a.append(_a)\n",
    "        b.append(_b)"
   ]
  },
  {
   "cell_type": "code",
   "execution_count": 46,
   "metadata": {
    "ExecuteTime": {
     "end_time": "2018-08-15T01:24:14.698585Z",
     "start_time": "2018-08-15T01:24:14.694437Z"
    }
   },
   "outputs": [
    {
     "data": {
      "text/plain": [
       "4"
      ]
     },
     "execution_count": 46,
     "metadata": {},
     "output_type": "execute_result"
    }
   ],
   "source": [
    "solve(N=N, M=M, a=a, b=b)"
   ]
  },
  {
   "cell_type": "code",
   "execution_count": null,
   "metadata": {},
   "outputs": [],
   "source": []
  }
 ],
 "metadata": {
  "kernelspec": {
   "display_name": "Python 3",
   "language": "python",
   "name": "python3"
  },
  "language_info": {
   "codemirror_mode": {
    "name": "ipython",
    "version": 3
   },
   "file_extension": ".py",
   "mimetype": "text/x-python",
   "name": "python",
   "nbconvert_exporter": "python",
   "pygments_lexer": "ipython3",
   "version": "3.5.2"
  },
  "toc": {
   "base_numbering": 1,
   "nav_menu": {},
   "number_sections": true,
   "sideBar": true,
   "skip_h1_title": true,
   "title_cell": "Table of Contents",
   "title_sidebar": "Contents",
   "toc_cell": true,
   "toc_position": {
    "height": "429px",
    "left": "80px",
    "top": "111.133px",
    "width": "265px"
   },
   "toc_section_display": true,
   "toc_window_display": true
  },
  "varInspector": {
   "cols": {
    "lenName": 16,
    "lenType": 16,
    "lenVar": 40
   },
   "kernels_config": {
    "python": {
     "delete_cmd_postfix": "",
     "delete_cmd_prefix": "del ",
     "library": "var_list.py",
     "varRefreshCmd": "print(var_dic_list())"
    },
    "r": {
     "delete_cmd_postfix": ") ",
     "delete_cmd_prefix": "rm(",
     "library": "var_list.r",
     "varRefreshCmd": "cat(var_dic_list()) "
    }
   },
   "types_to_exclude": [
    "module",
    "function",
    "builtin_function_or_method",
    "instance",
    "_Feature"
   ],
   "window_display": false
  }
 },
 "nbformat": 4,
 "nbformat_minor": 2
}

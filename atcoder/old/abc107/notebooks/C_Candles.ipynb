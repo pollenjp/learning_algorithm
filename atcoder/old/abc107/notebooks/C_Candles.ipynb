{
 "cells": [
  {
   "cell_type": "markdown",
   "metadata": {},
   "source": [
    "# C_Candles"
   ]
  },
  {
   "cell_type": "markdown",
   "metadata": {
    "toc": true
   },
   "source": [
    "<h1>Table of Contents<span class=\"tocSkip\"></span></h1>\n",
    "<div class=\"toc\"><ul class=\"toc-item\"><li><span><a href=\"#解説\" data-toc-modified-id=\"解説-1\"><span class=\"toc-item-num\">1&nbsp;&nbsp;</span>解説</a></span></li><li><span><a href=\"#Try-with-sample1\" data-toc-modified-id=\"Try-with-sample1-2\"><span class=\"toc-item-num\">2&nbsp;&nbsp;</span>Try with sample1</a></span></li><li><span><a href=\"#Solve\" data-toc-modified-id=\"Solve-3\"><span class=\"toc-item-num\">3&nbsp;&nbsp;</span>Solve</a></span></li><li><span><a href=\"#answer\" data-toc-modified-id=\"answer-4\"><span class=\"toc-item-num\">4&nbsp;&nbsp;</span>answer</a></span></li><li><span><a href=\"#Sample\" data-toc-modified-id=\"Sample-5\"><span class=\"toc-item-num\">5&nbsp;&nbsp;</span>Sample</a></span></li><li><span><a href=\"#End\" data-toc-modified-id=\"End-6\"><span class=\"toc-item-num\">6&nbsp;&nbsp;</span>End</a></span></li></ul></div>"
   ]
  },
  {
   "cell_type": "markdown",
   "metadata": {},
   "source": [
    "## 解説\n",
    "\n",
    "- 点A : 0以上の正\n",
    "  - それらのindex (昇順): $a\\_list$\n",
    "- 点B : 0より小さい\n",
    "  - それらのindex (降順): $b\\_list$\n",
    "\n",
    "- 場合分け\n",
    "  - a_list が空のとき\n",
    "  - b_list が空のとき\n",
    "  - a_list の中だけでK個取れるとき\n",
    "  - b_list の中だけでK個取れるとき\n",
    "  - O -> A -> B が最小のとき\n",
    "  - O -> B -> A が最小のとき\n",
    "\n",
    "\n",
    "- アルゴリズム\n",
    "  - $OAB\\_min = X[-1] - X[0]$ (O -> A -> B), (O -> B -> A)\n",
    "  - 0位上の点を $a\\_list = [a_0, a_1, ...,a_{len(a)-1} ]$ と置くとおよそこれらに関してのループで済む\n",
    "  - if a_list is empty\n",
    "    - OAB\\_min = - X[b_list[K-1]\n",
    "  - i = __max(0, K - len(b\\_list) - 1)__, ..., __max(K-1, len(a)-1)__ 　 # for i in range(__max(0, K - len(b\\_list) - 1)__, __min(K, len(a_list))__):\n",
    "    - if ($i = 0$)　and　$a\\_list[0] \\ne 0$\n",
    "      - 原点から点Bまでのみで構成される場合も考慮するため下の式を実行\n",
    "      - $OAB\\_min = min\\{|X[b\\_list[K-1]]|, OAB\\_min\\}$　# OAB_min = min( abs(X[b\\_list[K-1]]), OAB_min )\n",
    "    - OA = X[a_list[i]]\n",
    "    - OB = X[a_list[i] - K + 1]\n",
    "    - AB = OA - OB\n",
    "    - OAB = min( OA, OB ) + AB\n",
    "    - OAB_min = min(OAB, OAB_min)"
   ]
  },
  {
   "cell_type": "markdown",
   "metadata": {},
   "source": [
    "## Try with sample1"
   ]
  },
  {
   "cell_type": "code",
   "execution_count": 89,
   "metadata": {
    "ExecuteTime": {
     "end_time": "2018-08-25T15:21:11.085010Z",
     "start_time": "2018-08-25T15:21:11.077248Z"
    }
   },
   "outputs": [],
   "source": [
    "N, K = list(map(int, \"5 3\".split(\" \")))\n",
    "X = list(map(int, \"-30 -10 10 20 50\".split(\" \")))"
   ]
  },
  {
   "cell_type": "code",
   "execution_count": 91,
   "metadata": {
    "ExecuteTime": {
     "end_time": "2018-08-25T15:21:12.285941Z",
     "start_time": "2018-08-25T15:21:12.275984Z"
    }
   },
   "outputs": [
    {
     "name": "stdout",
     "output_type": "stream",
     "text": [
      "80\n"
     ]
    }
   ],
   "source": [
    "oab_min = X[-1] - X[0]\n",
    "print(oab_min)"
   ]
  },
  {
   "cell_type": "code",
   "execution_count": 92,
   "metadata": {
    "ExecuteTime": {
     "end_time": "2018-08-25T15:21:12.305869Z",
     "start_time": "2018-08-25T15:21:12.301371Z"
    }
   },
   "outputs": [
    {
     "name": "stdout",
     "output_type": "stream",
     "text": [
      "[2, 3, 4]\n",
      "[0, 1]\n"
     ]
    }
   ],
   "source": [
    "a_list = [ i for i in range(len(X)) if X[i] >= 0 ]  # O(N)\n",
    "print(a_list)\n",
    "b_list = [ i for i in range(len(X)) if X[i] < 0 ]  # O(N)\n",
    "print(b_list)"
   ]
  },
  {
   "cell_type": "code",
   "execution_count": 93,
   "metadata": {
    "ExecuteTime": {
     "end_time": "2018-08-25T15:21:12.825546Z",
     "start_time": "2018-08-25T15:21:12.815718Z"
    }
   },
   "outputs": [],
   "source": [
    "if not a_list:\n",
    "    # if a_list is empty\n",
    "    ob = - X[b_list[K-1]]\n",
    "    oab_min = min( ob, oab_min)\n",
    "if not b_list:\n",
    "    oa = X[a_list[K-1]]\n",
    "    oab_min = min( oa, oab_min)\n",
    "left = max(0, K - len(b_list))\n",
    "right = min(len(a_list), K)\n",
    "for i in range(left, right):\n",
    "    # if a_list is empty, skip this process\n",
    "    if (i==0) and (a_list[0] != 0):\n",
    "        print(K-1)\n",
    "        ob = - X[b_list[K-1]]\n",
    "        oab_min = min( ob, oab_min )\n",
    "    oa = X[a_list[i]]\n",
    "    ob = abs(X[a_list[i] - K + 1])\n",
    "    oab = min( oa, ob ) + oa + ob\n",
    "    oab_min = min(oab, oab_min)"
   ]
  },
  {
   "cell_type": "code",
   "execution_count": 94,
   "metadata": {
    "ExecuteTime": {
     "end_time": "2018-08-25T15:21:13.223148Z",
     "start_time": "2018-08-25T15:21:13.217374Z"
    }
   },
   "outputs": [
    {
     "data": {
      "text/plain": [
       "40"
      ]
     },
     "execution_count": 94,
     "metadata": {},
     "output_type": "execute_result"
    }
   ],
   "source": [
    "oab_min"
   ]
  },
  {
   "cell_type": "markdown",
   "metadata": {},
   "source": [
    "## Solve"
   ]
  },
  {
   "cell_type": "code",
   "execution_count": 101,
   "metadata": {
    "ExecuteTime": {
     "end_time": "2018-08-25T15:42:20.744376Z",
     "start_time": "2018-08-25T15:42:20.730404Z"
    }
   },
   "outputs": [],
   "source": [
    "def solve(N, K, X):\n",
    "    \"\"\"\n",
    "    解答のコード\n",
    "    \"\"\"\n",
    "    oab_min = X[-1] - X[0]\n",
    "\n",
    "    a_list = [ i for i in range(len(X)) if X[i] >= 0 ]  # O(N)\n",
    "    b_list = [ i for i in range(len(X)) if X[i] < 0 ]  # O(N)\n",
    "\n",
    "    if not a_list:\n",
    "        # if a_list is empty\n",
    "        ob = - X[b_list[K-1]]\n",
    "        oab_min = min( ob, oab_min)\n",
    "    if not b_list:\n",
    "        oa = X[a_list[K-1]]\n",
    "        oab_min = min( oa, oab_min)\n",
    "    left = max(0, K - len(b_list))\n",
    "    right = min(len(a_list), K)\n",
    "    for i in range(left, right):\n",
    "        # if a_list is empty, skip this process\n",
    "        if (i==0) and (a_list[0] != 0):\n",
    "            ob = - X[b_list[K-1]]\n",
    "            oab_min = min( ob, oab_min )\n",
    "        oa = X[a_list[i]]\n",
    "        ob = abs(X[a_list[i] - K + 1])\n",
    "        oab = min( oa, ob ) + oa + ob\n",
    "        oab_min = min(oab, oab_min)\n",
    "    return oab_min"
   ]
  },
  {
   "cell_type": "markdown",
   "metadata": {},
   "source": [
    "## answer"
   ]
  },
  {
   "cell_type": "code",
   "execution_count": 148,
   "metadata": {
    "ExecuteTime": {
     "end_time": "2018-08-25T13:10:01.725180Z",
     "start_time": "2018-08-25T13:10:00.246891Z"
    }
   },
   "outputs": [
    {
     "name": "stdout",
     "output_type": "stream",
     "text": [
      "\n"
     ]
    },
    {
     "ename": "ValueError",
     "evalue": "invalid literal for int() with base 10: ''",
     "output_type": "error",
     "traceback": [
      "\u001b[0;31m---------------------------------------------------------------------------\u001b[0m",
      "\u001b[0;31mValueError\u001b[0m                                Traceback (most recent call last)",
      "\u001b[0;32m<ipython-input-148-62367616242e>\u001b[0m in \u001b[0;36m<module>\u001b[0;34m()\u001b[0m\n\u001b[1;32m     47\u001b[0m \u001b[0;34m\u001b[0m\u001b[0m\n\u001b[1;32m     48\u001b[0m \u001b[0;32mif\u001b[0m \u001b[0m__name__\u001b[0m \u001b[0;34m==\u001b[0m \u001b[0;34m\"__main__\"\u001b[0m\u001b[0;34m:\u001b[0m\u001b[0;34m\u001b[0m\u001b[0m\n\u001b[0;32m---> 49\u001b[0;31m     \u001b[0mmain\u001b[0m\u001b[0;34m(\u001b[0m\u001b[0;34m)\u001b[0m\u001b[0;34m\u001b[0m\u001b[0m\n\u001b[0m",
      "\u001b[0;32m<ipython-input-148-62367616242e>\u001b[0m in \u001b[0;36mmain\u001b[0;34m()\u001b[0m\n\u001b[1;32m      1\u001b[0m \u001b[0;32mdef\u001b[0m \u001b[0mmain\u001b[0m\u001b[0;34m(\u001b[0m\u001b[0;34m)\u001b[0m\u001b[0;34m:\u001b[0m\u001b[0;34m\u001b[0m\u001b[0m\n\u001b[0;32m----> 2\u001b[0;31m     \u001b[0mH\u001b[0m\u001b[0;34m,\u001b[0m \u001b[0mW\u001b[0m \u001b[0;34m=\u001b[0m \u001b[0mlist\u001b[0m\u001b[0;34m(\u001b[0m\u001b[0mmap\u001b[0m\u001b[0;34m(\u001b[0m\u001b[0mint\u001b[0m\u001b[0;34m,\u001b[0m \u001b[0minput\u001b[0m\u001b[0;34m(\u001b[0m\u001b[0;34m)\u001b[0m\u001b[0;34m.\u001b[0m\u001b[0msplit\u001b[0m\u001b[0;34m(\u001b[0m\u001b[0;34m\" \"\u001b[0m\u001b[0;34m)\u001b[0m\u001b[0;34m)\u001b[0m\u001b[0;34m)\u001b[0m\u001b[0;34m\u001b[0m\u001b[0m\n\u001b[0m\u001b[1;32m      3\u001b[0m     \u001b[0ma\u001b[0m \u001b[0;34m=\u001b[0m \u001b[0;34m[\u001b[0m\u001b[0;34m]\u001b[0m\u001b[0;34m\u001b[0m\u001b[0m\n\u001b[1;32m      4\u001b[0m     \u001b[0;32mfor\u001b[0m \u001b[0mr\u001b[0m \u001b[0;32min\u001b[0m \u001b[0mrange\u001b[0m\u001b[0;34m(\u001b[0m\u001b[0mH\u001b[0m\u001b[0;34m)\u001b[0m\u001b[0;34m:\u001b[0m\u001b[0;34m\u001b[0m\u001b[0m\n\u001b[1;32m      5\u001b[0m         \u001b[0ma\u001b[0m \u001b[0;34m+=\u001b[0m \u001b[0;34m[\u001b[0m\u001b[0minput\u001b[0m\u001b[0;34m(\u001b[0m\u001b[0;34m)\u001b[0m\u001b[0;34m]\u001b[0m\u001b[0;34m\u001b[0m\u001b[0m\n",
      "\u001b[0;31mValueError\u001b[0m: invalid literal for int() with base 10: ''"
     ]
    }
   ],
   "source": [
    "def main():\n",
    "    N, K = list(map(int, input().split(\" \")))\n",
    "    X = list(map(int, input().split(\" \")))\n",
    "    output = solve(N, K, X)\n",
    "    print(output)\n",
    "    return\n",
    "\n",
    "#________________________________________\n",
    "#  Solve\n",
    "#________________________________________\n",
    "def solve(N, K, X):\n",
    "    \"\"\"\n",
    "    解答のコード\n",
    "    \"\"\"\n",
    "    oab_min = X[-1] - X[0]\n",
    "\n",
    "    a_list = [ i for i in range(len(X)) if X[i] >= 0 ]  # O(N)\n",
    "    b_list = [ i for i in range(len(X)) if X[i] < 0 ]  # O(N)\n",
    "\n",
    "    if not a_list:\n",
    "        # if a_list is empty\n",
    "        ob = - X[b_list[K-1]]\n",
    "        oab_min = min( ob, oab_min)\n",
    "    if not b_list:\n",
    "        oa = X[a_list[K-1]]\n",
    "        oab_min = min( oa, oab_min)\n",
    "    left = max(0, K - len(b_list))\n",
    "    right = min(len(a_list), K)\n",
    "    for i in range(left, right):\n",
    "        # if a_list is empty, skip this process\n",
    "        if (i==0) and (a_list[0] != 0):\n",
    "            ob = - X[b_list[K-1]]\n",
    "            oab_min = min( ob, oab_min )\n",
    "        oa = X[a_list[i]]\n",
    "        ob = abs(X[a_list[i] - K + 1])\n",
    "        oab = min( oa, ob ) + oa + ob\n",
    "        oab_min = min(oab, oab_min)\n",
    "    return oab_min\n",
    "#________________________________________\n",
    "\n",
    "\n",
    "if __name__ == \"__main__\":\n",
    "    main()"
   ]
  },
  {
   "cell_type": "markdown",
   "metadata": {},
   "source": [
    "## Sample"
   ]
  },
  {
   "cell_type": "code",
   "execution_count": 103,
   "metadata": {
    "ExecuteTime": {
     "end_time": "2018-08-25T15:43:36.445514Z",
     "start_time": "2018-08-25T15:43:36.437934Z"
    }
   },
   "outputs": [
    {
     "data": {
      "text/plain": [
       "40"
      ]
     },
     "execution_count": 103,
     "metadata": {},
     "output_type": "execute_result"
    }
   ],
   "source": [
    "N, K = list(map(int, \"5 3\".split(\" \")))\n",
    "X = list(map(int, \"-30 -10 10 20 50\".split(\" \")))\n",
    "\n",
    "solve(N, K, X)"
   ]
  },
  {
   "cell_type": "code",
   "execution_count": 99,
   "metadata": {
    "ExecuteTime": {
     "end_time": "2018-08-25T15:39:53.826528Z",
     "start_time": "2018-08-25T15:39:53.824083Z"
    }
   },
   "outputs": [],
   "source": [
    "# sample2\n",
    "N, K = list(map(int, \"3 2\".split(\" \")))\n",
    "X = list(map(int, \"10 20 30\".split(\" \")))\n",
    "\n",
    "solve(N, K, X)"
   ]
  },
  {
   "cell_type": "code",
   "execution_count": 104,
   "metadata": {
    "ExecuteTime": {
     "end_time": "2018-08-25T15:43:59.951459Z",
     "start_time": "2018-08-25T15:43:59.935751Z"
    }
   },
   "outputs": [
    {
     "data": {
      "text/plain": [
       "0"
      ]
     },
     "execution_count": 104,
     "metadata": {},
     "output_type": "execute_result"
    }
   ],
   "source": [
    "# sample3\n",
    "N, K = list(map(int, \"1 1\".split(\" \")))\n",
    "X = list(map(int, \"0\".split(\" \")))\n",
    "\n",
    "solve(N, K, X)"
   ]
  },
  {
   "cell_type": "code",
   "execution_count": 105,
   "metadata": {
    "ExecuteTime": {
     "end_time": "2018-08-25T15:44:33.172307Z",
     "start_time": "2018-08-25T15:44:33.164173Z"
    }
   },
   "outputs": [
    {
     "data": {
      "text/plain": [
       "10"
      ]
     },
     "execution_count": 105,
     "metadata": {},
     "output_type": "execute_result"
    }
   ],
   "source": [
    "# sample4\n",
    "N, K = list(map(int, \"8 5\".split(\" \")))\n",
    "X = list(map(int, \"-9 -7 -4 -3 1 2 3 4\".split(\" \")))\n",
    "\n",
    "solve(N, K, X)"
   ]
  },
  {
   "cell_type": "code",
   "execution_count": null,
   "metadata": {},
   "outputs": [],
   "source": []
  },
  {
   "cell_type": "code",
   "execution_count": null,
   "metadata": {},
   "outputs": [],
   "source": []
  },
  {
   "cell_type": "code",
   "execution_count": null,
   "metadata": {},
   "outputs": [],
   "source": []
  },
  {
   "cell_type": "markdown",
   "metadata": {},
   "source": [
    "## End"
   ]
  },
  {
   "cell_type": "code",
   "execution_count": null,
   "metadata": {},
   "outputs": [],
   "source": []
  }
 ],
 "metadata": {
  "kernelspec": {
   "display_name": "Python 3",
   "language": "python",
   "name": "python3"
  },
  "language_info": {
   "codemirror_mode": {
    "name": "ipython",
    "version": 3
   },
   "file_extension": ".py",
   "mimetype": "text/x-python",
   "name": "python",
   "nbconvert_exporter": "python",
   "pygments_lexer": "ipython3",
   "version": "3.5.2"
  },
  "toc": {
   "base_numbering": 1,
   "nav_menu": {},
   "number_sections": true,
   "sideBar": true,
   "skip_h1_title": true,
   "title_cell": "Table of Contents",
   "title_sidebar": "Contents",
   "toc_cell": true,
   "toc_position": {},
   "toc_section_display": true,
   "toc_window_display": true
  },
  "varInspector": {
   "cols": {
    "lenName": 16,
    "lenType": 16,
    "lenVar": 40
   },
   "kernels_config": {
    "python": {
     "delete_cmd_postfix": "",
     "delete_cmd_prefix": "del ",
     "library": "var_list.py",
     "varRefreshCmd": "print(var_dic_list())"
    },
    "r": {
     "delete_cmd_postfix": ") ",
     "delete_cmd_prefix": "rm(",
     "library": "var_list.r",
     "varRefreshCmd": "cat(var_dic_list()) "
    }
   },
   "types_to_exclude": [
    "module",
    "function",
    "builtin_function_or_method",
    "instance",
    "_Feature"
   ],
   "window_display": false
  }
 },
 "nbformat": 4,
 "nbformat_minor": 2
}

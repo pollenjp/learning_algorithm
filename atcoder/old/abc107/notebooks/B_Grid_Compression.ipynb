{
 "cells": [
  {
   "cell_type": "markdown",
   "metadata": {},
   "source": [
    "# B_Grid_Compression"
   ]
  },
  {
   "cell_type": "markdown",
   "metadata": {
    "toc": true
   },
   "source": [
    "<h1>Table of Contents<span class=\"tocSkip\"></span></h1>\n",
    "<div class=\"toc\"><ul class=\"toc-item\"><li><span><a href=\"#Solve\" data-toc-modified-id=\"Solve-1\"><span class=\"toc-item-num\">1&nbsp;&nbsp;</span>Solve</a></span></li><li><span><a href=\"#answer\" data-toc-modified-id=\"answer-2\"><span class=\"toc-item-num\">2&nbsp;&nbsp;</span>answer</a></span></li><li><span><a href=\"#Sample\" data-toc-modified-id=\"Sample-3\"><span class=\"toc-item-num\">3&nbsp;&nbsp;</span>Sample</a></span></li><li><span><a href=\"#End\" data-toc-modified-id=\"End-4\"><span class=\"toc-item-num\">4&nbsp;&nbsp;</span>End</a></span></li></ul></div>"
   ]
  },
  {
   "cell_type": "markdown",
   "metadata": {},
   "source": [
    "## Solve"
   ]
  },
  {
   "cell_type": "code",
   "execution_count": 145,
   "metadata": {
    "ExecuteTime": {
     "end_time": "2018-08-25T13:08:15.843918Z",
     "start_time": "2018-08-25T13:08:15.823719Z"
    }
   },
   "outputs": [],
   "source": [
    "def solve(H, W, a):\n",
    "    \"\"\"\n",
    "    解答のコード\n",
    "    \"\"\"\n",
    "    index_list = []\n",
    "    for _r in range(H):\n",
    "        for _c in range(W):\n",
    "            if a[_r][_c] is not \".\":\n",
    "                break\n",
    "            if _c == W-1:\n",
    "                index_list += [_r]\n",
    "    j = 0\n",
    "    for i in index_list:\n",
    "        del a[i-j]\n",
    "        j += 1\n",
    "\n",
    "    index_list = []\n",
    "    a = list(map(list, zip(*a)))\n",
    "    for _r in range(len(a)):\n",
    "        for _c in range(len(a[0])):\n",
    "            if a[_r][_c] is not \".\":\n",
    "                break\n",
    "            if _c == len(a[0])-1:\n",
    "                index_list += [_r]\n",
    "    j = 0\n",
    "    for i in index_list:\n",
    "        del a[i-j]\n",
    "        j += 1\n",
    "    a = list(map(list, zip(*a)))\n",
    "    a = [ \"\".join(a[i]) for i in range(len(a))]\n",
    "    return a"
   ]
  },
  {
   "cell_type": "markdown",
   "metadata": {},
   "source": [
    "## answer"
   ]
  },
  {
   "cell_type": "code",
   "execution_count": 148,
   "metadata": {
    "ExecuteTime": {
     "end_time": "2018-08-25T13:10:01.725180Z",
     "start_time": "2018-08-25T13:10:00.246891Z"
    }
   },
   "outputs": [
    {
     "name": "stdout",
     "output_type": "stream",
     "text": [
      "\n"
     ]
    },
    {
     "ename": "ValueError",
     "evalue": "invalid literal for int() with base 10: ''",
     "output_type": "error",
     "traceback": [
      "\u001b[0;31m---------------------------------------------------------------------------\u001b[0m",
      "\u001b[0;31mValueError\u001b[0m                                Traceback (most recent call last)",
      "\u001b[0;32m<ipython-input-148-62367616242e>\u001b[0m in \u001b[0;36m<module>\u001b[0;34m()\u001b[0m\n\u001b[1;32m     47\u001b[0m \u001b[0;34m\u001b[0m\u001b[0m\n\u001b[1;32m     48\u001b[0m \u001b[0;32mif\u001b[0m \u001b[0m__name__\u001b[0m \u001b[0;34m==\u001b[0m \u001b[0;34m\"__main__\"\u001b[0m\u001b[0;34m:\u001b[0m\u001b[0;34m\u001b[0m\u001b[0m\n\u001b[0;32m---> 49\u001b[0;31m     \u001b[0mmain\u001b[0m\u001b[0;34m(\u001b[0m\u001b[0;34m)\u001b[0m\u001b[0;34m\u001b[0m\u001b[0m\n\u001b[0m",
      "\u001b[0;32m<ipython-input-148-62367616242e>\u001b[0m in \u001b[0;36mmain\u001b[0;34m()\u001b[0m\n\u001b[1;32m      1\u001b[0m \u001b[0;32mdef\u001b[0m \u001b[0mmain\u001b[0m\u001b[0;34m(\u001b[0m\u001b[0;34m)\u001b[0m\u001b[0;34m:\u001b[0m\u001b[0;34m\u001b[0m\u001b[0m\n\u001b[0;32m----> 2\u001b[0;31m     \u001b[0mH\u001b[0m\u001b[0;34m,\u001b[0m \u001b[0mW\u001b[0m \u001b[0;34m=\u001b[0m \u001b[0mlist\u001b[0m\u001b[0;34m(\u001b[0m\u001b[0mmap\u001b[0m\u001b[0;34m(\u001b[0m\u001b[0mint\u001b[0m\u001b[0;34m,\u001b[0m \u001b[0minput\u001b[0m\u001b[0;34m(\u001b[0m\u001b[0;34m)\u001b[0m\u001b[0;34m.\u001b[0m\u001b[0msplit\u001b[0m\u001b[0;34m(\u001b[0m\u001b[0;34m\" \"\u001b[0m\u001b[0;34m)\u001b[0m\u001b[0;34m)\u001b[0m\u001b[0;34m)\u001b[0m\u001b[0;34m\u001b[0m\u001b[0m\n\u001b[0m\u001b[1;32m      3\u001b[0m     \u001b[0ma\u001b[0m \u001b[0;34m=\u001b[0m \u001b[0;34m[\u001b[0m\u001b[0;34m]\u001b[0m\u001b[0;34m\u001b[0m\u001b[0m\n\u001b[1;32m      4\u001b[0m     \u001b[0;32mfor\u001b[0m \u001b[0mr\u001b[0m \u001b[0;32min\u001b[0m \u001b[0mrange\u001b[0m\u001b[0;34m(\u001b[0m\u001b[0mH\u001b[0m\u001b[0;34m)\u001b[0m\u001b[0;34m:\u001b[0m\u001b[0;34m\u001b[0m\u001b[0m\n\u001b[1;32m      5\u001b[0m         \u001b[0ma\u001b[0m \u001b[0;34m+=\u001b[0m \u001b[0;34m[\u001b[0m\u001b[0minput\u001b[0m\u001b[0;34m(\u001b[0m\u001b[0;34m)\u001b[0m\u001b[0;34m]\u001b[0m\u001b[0;34m\u001b[0m\u001b[0m\n",
      "\u001b[0;31mValueError\u001b[0m: invalid literal for int() with base 10: ''"
     ]
    }
   ],
   "source": [
    "def main():\n",
    "    H, W = list(map(int, input().split(\" \")))\n",
    "    a = []\n",
    "    for r in range(H):\n",
    "        a += [input()]\n",
    "    output = solve(H, W, a)\n",
    "    for s in output:\n",
    "        print(s)\n",
    "    return\n",
    "\n",
    "#________________________________________\n",
    "#  Solve\n",
    "#________________________________________\n",
    "def solve(H, W, a):\n",
    "    \"\"\"\n",
    "    解答のコード\n",
    "    \"\"\"\n",
    "    index_list = []\n",
    "    for _r in range(H):\n",
    "        for _c in range(W):\n",
    "            if a[_r][_c] is not \".\":\n",
    "                break\n",
    "            if _c == W-1:\n",
    "                index_list += [_r]\n",
    "    j = 0\n",
    "    for i in index_list:\n",
    "        del a[i-j]\n",
    "        j += 1\n",
    "\n",
    "    index_list = []\n",
    "    a = list(map(list, zip(*a)))\n",
    "    for _r in range(len(a)):\n",
    "        for _c in range(len(a[0])):\n",
    "            if a[_r][_c] is not \".\":\n",
    "                break\n",
    "            if _c == len(a[0])-1:\n",
    "                index_list += [_r]\n",
    "    j = 0\n",
    "    for i in index_list:\n",
    "        del a[i-j]\n",
    "        j += 1\n",
    "    a = list(map(list, zip(*a)))\n",
    "    a = [ \"\".join(a[i]) for i in range(len(a))]\n",
    "    return a\n",
    "#________________________________________\n",
    "\n",
    "\n",
    "if __name__ == \"__main__\":\n",
    "    main()"
   ]
  },
  {
   "cell_type": "markdown",
   "metadata": {},
   "source": [
    "## Sample"
   ]
  },
  {
   "cell_type": "code",
   "execution_count": 131,
   "metadata": {
    "ExecuteTime": {
     "end_time": "2018-08-25T13:01:33.225576Z",
     "start_time": "2018-08-25T13:01:33.214968Z"
    }
   },
   "outputs": [
    {
     "data": {
      "text/plain": [
       "['#', '#', '.', '#']"
      ]
     },
     "execution_count": 131,
     "metadata": {},
     "output_type": "execute_result"
    }
   ],
   "source": [
    "list(\"##.#\")"
   ]
  },
  {
   "cell_type": "code",
   "execution_count": 142,
   "metadata": {
    "ExecuteTime": {
     "end_time": "2018-08-25T13:07:58.371220Z",
     "start_time": "2018-08-25T13:07:58.362633Z"
    }
   },
   "outputs": [],
   "source": [
    "H, W = list(map(int, \"4 4\".split(\" \")))\n",
    "a = []\n",
    "a += [list(\"##.#\")]\n",
    "a += [list(\"....\")]\n",
    "a += [list(\"##.#\")]\n",
    "a += [list(\".#.#\")]"
   ]
  },
  {
   "cell_type": "code",
   "execution_count": 143,
   "metadata": {
    "ExecuteTime": {
     "end_time": "2018-08-25T13:07:58.525677Z",
     "start_time": "2018-08-25T13:07:58.519371Z"
    }
   },
   "outputs": [
    {
     "data": {
      "text/plain": [
       "[['#', '#', '.', '#'],\n",
       " ['.', '.', '.', '.'],\n",
       " ['#', '#', '.', '#'],\n",
       " ['.', '#', '.', '#']]"
      ]
     },
     "execution_count": 143,
     "metadata": {},
     "output_type": "execute_result"
    }
   ],
   "source": [
    "a"
   ]
  },
  {
   "cell_type": "code",
   "execution_count": 144,
   "metadata": {
    "ExecuteTime": {
     "end_time": "2018-08-25T13:07:58.671068Z",
     "start_time": "2018-08-25T13:07:58.666770Z"
    }
   },
   "outputs": [
    {
     "name": "stdout",
     "output_type": "stream",
     "text": [
      "[['#', '#', '.', '#'], ['#', '#', '.', '#'], ['.', '#', '.', '#']]\n",
      "[['#', '#', '#'], ['#', '#', '#'], ['.', '#', '#']]\n",
      "['###', '###', '.##']\n"
     ]
    }
   ],
   "source": [
    "#import copy\n",
    "#output = copy.deepcopy(a)\n",
    "index_list = []\n",
    "for _r in range(H):\n",
    "    for _c in range(W):\n",
    "        if a[_r][_c] is not \".\":\n",
    "            break\n",
    "        if _c == W-1:\n",
    "            index_list += [_r]\n",
    "j = 0\n",
    "for i in index_list:\n",
    "    del a[i-j]\n",
    "    j += 1\n",
    "print(a)\n",
    "\n",
    "index_list = []\n",
    "a = list(map(list, zip(*a)))\n",
    "for _r in range(len(a)):\n",
    "    for _c in range(len(a[0])):\n",
    "        if a[_r][_c] is not \".\":\n",
    "            break\n",
    "        if _c == len(a[0])-1:\n",
    "            index_list += [_r]\n",
    "j = 0\n",
    "for i in index_list:\n",
    "    del a[i-j]\n",
    "    j += 1\n",
    "a = list(map(list, zip(*a)))\n",
    "print(a)\n",
    "a = [ \"\".join(a[i]) for i in range(len(a))]\n",
    "print(a)"
   ]
  },
  {
   "cell_type": "code",
   "execution_count": 138,
   "metadata": {
    "ExecuteTime": {
     "end_time": "2018-08-25T13:05:20.370465Z",
     "start_time": "2018-08-25T13:05:20.363055Z"
    }
   },
   "outputs": [],
   "source": [
    "# sample 2\n",
    "H, W = list(map(int, \"3 3\".split(\" \")))\n",
    "a = []\n",
    "a += [list(\"#..\")]\n",
    "a += [list(\".#.\")]\n",
    "a += [list(\"..#\")]"
   ]
  },
  {
   "cell_type": "code",
   "execution_count": 139,
   "metadata": {
    "ExecuteTime": {
     "end_time": "2018-08-25T13:05:32.016070Z",
     "start_time": "2018-08-25T13:05:32.005569Z"
    }
   },
   "outputs": [
    {
     "data": {
      "text/plain": [
       "['#..', '.#.', '..#']"
      ]
     },
     "execution_count": 139,
     "metadata": {},
     "output_type": "execute_result"
    }
   ],
   "source": [
    "solve(H, W, a)"
   ]
  },
  {
   "cell_type": "code",
   "execution_count": 146,
   "metadata": {
    "ExecuteTime": {
     "end_time": "2018-08-25T13:08:19.711353Z",
     "start_time": "2018-08-25T13:08:19.705469Z"
    }
   },
   "outputs": [],
   "source": [
    "# sample 3\n",
    "H, W = list(map(int, \"4 5\".split(\" \")))\n",
    "a = []\n",
    "a += [list(\".....\")]\n",
    "a += [list(\".....\")]\n",
    "a += [list(\"..#..\")]\n",
    "a += [list(\".....\")]"
   ]
  },
  {
   "cell_type": "code",
   "execution_count": 147,
   "metadata": {
    "ExecuteTime": {
     "end_time": "2018-08-25T13:08:19.868485Z",
     "start_time": "2018-08-25T13:08:19.861374Z"
    }
   },
   "outputs": [
    {
     "data": {
      "text/plain": [
       "['#']"
      ]
     },
     "execution_count": 147,
     "metadata": {},
     "output_type": "execute_result"
    }
   ],
   "source": [
    "solve(H, W, a)"
   ]
  },
  {
   "cell_type": "code",
   "execution_count": null,
   "metadata": {},
   "outputs": [],
   "source": []
  },
  {
   "cell_type": "markdown",
   "metadata": {},
   "source": [
    "## End"
   ]
  },
  {
   "cell_type": "code",
   "execution_count": null,
   "metadata": {},
   "outputs": [],
   "source": []
  }
 ],
 "metadata": {
  "kernelspec": {
   "display_name": "Python 3",
   "language": "python",
   "name": "python3"
  },
  "language_info": {
   "codemirror_mode": {
    "name": "ipython",
    "version": 3
   },
   "file_extension": ".py",
   "mimetype": "text/x-python",
   "name": "python",
   "nbconvert_exporter": "python",
   "pygments_lexer": "ipython3",
   "version": "3.5.2"
  },
  "toc": {
   "base_numbering": 1,
   "nav_menu": {},
   "number_sections": true,
   "sideBar": true,
   "skip_h1_title": true,
   "title_cell": "Table of Contents",
   "title_sidebar": "Contents",
   "toc_cell": true,
   "toc_position": {},
   "toc_section_display": true,
   "toc_window_display": true
  },
  "varInspector": {
   "cols": {
    "lenName": 16,
    "lenType": 16,
    "lenVar": 40
   },
   "kernels_config": {
    "python": {
     "delete_cmd_postfix": "",
     "delete_cmd_prefix": "del ",
     "library": "var_list.py",
     "varRefreshCmd": "print(var_dic_list())"
    },
    "r": {
     "delete_cmd_postfix": ") ",
     "delete_cmd_prefix": "rm(",
     "library": "var_list.r",
     "varRefreshCmd": "cat(var_dic_list()) "
    }
   },
   "types_to_exclude": [
    "module",
    "function",
    "builtin_function_or_method",
    "instance",
    "_Feature"
   ],
   "window_display": false
  }
 },
 "nbformat": 4,
 "nbformat_minor": 2
}

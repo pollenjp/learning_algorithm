{
 "cells": [
  {
   "cell_type": "markdown",
   "metadata": {
    "toc": true
   },
   "source": [
    "<h1>Table of Contents<span class=\"tocSkip\"></span></h1>\n",
    "<div class=\"toc\" style=\"margin-top: 1em;\"><ul class=\"toc-item\"><li><span><a href=\"#A---Something-on-It\" data-toc-modified-id=\"A---Something-on-It-1\"><span class=\"toc-item-num\">1&nbsp;&nbsp;</span>A - Something on It</a></span></li></ul></div>"
   ]
  },
  {
   "cell_type": "markdown",
   "metadata": {},
   "source": [
    "# A - Something on It\n",
    "\n",
    ">時間制限 : 2sec / メモリ制限 : 256MB\n",
    ">\n",
    ">配点 : 100 点\n",
    ">問題文\n",
    ">\n",
    ">ラーメン店「高橋屋」のラーメンの値段は 1 杯 700 円ですが、トッピング（味玉、チャーシュー、ねぎ）を乗せた場合は 1 種類につき 100 円が加算されます。\n",
    ">\n",
    ">ある客がラーメンを一杯注文し、店員にトッピングの希望を伝えました。店員は注文の内容をメモ帳に文字列 S として記録しました。S の長さは 3 文字で、S の 1 文字目が o のとき客のラーメンに味玉を乗せることを、x のとき味玉を乗せないことを表します。同様に、S の 2 文字目、3 文字目はそれぞれチャーシュー、ねぎの有無を表します。\n",
    ">\n",
    ">S が入力されると、対応するラーメンの値段を出力するプログラムを書いてください。\n",
    ">制約\n",
    ">\n",
    ">    S は長さ 3 の文字列である。\n",
    ">    S の各文字は o または x である。\n",
    ">\n",
    ">\n",
    ">入力\n",
    ">\n",
    ">入力は以下の形式で標準入力から与えられる。\n",
    ">\n",
    ">S\n",
    ">\n",
    ">出力\n",
    ">\n",
    ">S に対応するラーメンの値段が y 円のとき、y の値を出力せよ。\n",
    ">"
   ]
  },
  {
   "cell_type": "code",
   "execution_count": null,
   "metadata": {},
   "outputs": [],
   "source": []
  },
  {
   "cell_type": "code",
   "execution_count": null,
   "metadata": {},
   "outputs": [],
   "source": []
  },
  {
   "cell_type": "code",
   "execution_count": null,
   "metadata": {},
   "outputs": [],
   "source": []
  },
  {
   "cell_type": "code",
   "execution_count": null,
   "metadata": {},
   "outputs": [],
   "source": []
  }
 ],
 "metadata": {
  "kernelspec": {
   "display_name": "Python 3",
   "language": "python",
   "name": "python3"
  },
  "language_info": {
   "codemirror_mode": {
    "name": "ipython",
    "version": 3
   },
   "file_extension": ".py",
   "mimetype": "text/x-python",
   "name": "python",
   "nbconvert_exporter": "python",
   "pygments_lexer": "ipython3",
   "version": "3.5.2"
  },
  "toc": {
   "nav_menu": {},
   "number_sections": true,
   "sideBar": true,
   "skip_h1_title": false,
   "toc_cell": true,
   "toc_position": {},
   "toc_section_display": "block",
   "toc_window_display": false
  }
 },
 "nbformat": 4,
 "nbformat_minor": 2
}

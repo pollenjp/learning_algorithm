{
 "cells": [
  {
   "cell_type": "markdown",
   "metadata": {
    "toc": true
   },
   "source": [
    "<h1>Table of Contents<span class=\"tocSkip\"></span></h1>\n",
    "<div class=\"toc\" style=\"margin-top: 1em;\"><ul class=\"toc-item\"></ul></div>"
   ]
  },
  {
   "cell_type": "code",
   "execution_count": 1,
   "metadata": {},
   "outputs": [
    {
     "data": {
      "text/plain": []
     },
     "execution_count": 1,
     "metadata": {},
     "output_type": "execute_result"
    }
   ],
   "source": [
    "#include <iostream>\n",
    "#include <cassert>\n",
    "#include <string>"
   ]
  },
  {
   "cell_type": "code",
   "execution_count": 2,
   "metadata": {},
   "outputs": [
    {
     "data": {
      "text/plain": []
     },
     "execution_count": 2,
     "metadata": {},
     "output_type": "execute_result"
    }
   ],
   "source": [
    "using namespace std;\n"
   ]
  },
  {
   "cell_type": "code",
   "execution_count": null,
   "metadata": {},
   "outputs": [],
   "source": [
    "\n",
    "int main()\n",
    "{\n",
    "  /* input */\n",
    "  int A,B,C,X,Y;\n",
    "  cin >> A >> B >> C >> X >> Y;\n",
    "  //cout << A << endl;\n",
    "  // cout << B << endl;\n",
    "  // cout << C << endl;\n",
    "  // cout << X << endl;\n",
    "  // cout << Y << endl;\n",
    "\n",
    "  int m;\n",
    "  int sum = 0;\n",
    "\n",
    "  if ((A+B)/2 < C){\n",
    "    sum += A * X + B * Y;\n",
    "  }\n",
    "  else {\n",
    "    if (X < Y) {\n",
    "      m = X;\n",
    "    } else {\n",
    "      m = Y;\n",
    "    }\n",
    "    //cout << m << endl;\n",
    "    sum += C*2*m;\n",
    "    if (X - m > 0) {\n",
    "      if (2*C < A){\n",
    "        sum += 2*C*(X-m);\n",
    "      } else {\n",
    "        sum += A*(X-m);\n",
    "      }\n",
    "    } else {\n",
    "      if (2*C < B){\n",
    "        sum += 2*C*(Y-m);\n",
    "      } else {\n",
    "        sum += B*(Y-m);\n",
    "      }\n",
    "    }\n",
    "  }\n",
    "  cout << sum;\n",
    "  return (0);\n",
    "}"
   ]
  }
 ],
 "metadata": {
  "kernelspec": {
   "display_name": "C++11",
   "language": "C++",
   "name": "cling-cpp11"
  },
  "language_info": {
   "codemirror_mode": "c++",
   "file_extension": ".c++",
   "mimetype": "text/x-c++src",
   "name": "c++"
  },
  "toc": {
   "nav_menu": {},
   "number_sections": true,
   "sideBar": true,
   "skip_h1_title": false,
   "toc_cell": true,
   "toc_position": {},
   "toc_section_display": "block",
   "toc_window_display": false
  }
 },
 "nbformat": 4,
 "nbformat_minor": 2
}

{
 "cells": [
  {
   "cell_type": "markdown",
   "metadata": {},
   "source": [
    "# A_Train"
   ]
  },
  {
   "cell_type": "markdown",
   "metadata": {
    "toc": true
   },
   "source": [
    "<h1>Table of Contents<span class=\"tocSkip\"></span></h1>\n",
    "<div class=\"toc\"><ul class=\"toc-item\"><li><span><a href=\"#Solve\" data-toc-modified-id=\"Solve-1\"><span class=\"toc-item-num\">1&nbsp;&nbsp;</span>Solve</a></span></li><li><span><a href=\"#answer\" data-toc-modified-id=\"answer-2\"><span class=\"toc-item-num\">2&nbsp;&nbsp;</span>answer</a></span></li><li><span><a href=\"#Sample\" data-toc-modified-id=\"Sample-3\"><span class=\"toc-item-num\">3&nbsp;&nbsp;</span>Sample</a></span></li><li><span><a href=\"#End\" data-toc-modified-id=\"End-4\"><span class=\"toc-item-num\">4&nbsp;&nbsp;</span>End</a></span></li></ul></div>"
   ]
  },
  {
   "cell_type": "markdown",
   "metadata": {},
   "source": [
    "## Solve"
   ]
  },
  {
   "cell_type": "code",
   "execution_count": 1,
   "metadata": {
    "ExecuteTime": {
     "end_time": "2018-08-25T12:01:18.868459Z",
     "start_time": "2018-08-25T12:01:18.857358Z"
    }
   },
   "outputs": [],
   "source": [
    "def solve(N, i):\n",
    "    \"\"\"\n",
    "    解答のコード\n",
    "    \"\"\"\n",
    "    return N - i + 1"
   ]
  },
  {
   "cell_type": "markdown",
   "metadata": {},
   "source": [
    "## answer"
   ]
  },
  {
   "cell_type": "code",
   "execution_count": 4,
   "metadata": {
    "ExecuteTime": {
     "end_time": "2018-08-25T12:03:17.390315Z",
     "start_time": "2018-08-25T12:03:15.540035Z"
    }
   },
   "outputs": [
    {
     "name": "stdout",
     "output_type": "stream",
     "text": [
      "4 2\n",
      "3\n"
     ]
    }
   ],
   "source": [
    "def main():\n",
    "    N, i = list(map(int, input().split(\" \")))\n",
    "    output = solve(N, i)\n",
    "    print(output)\n",
    "    return\n",
    "\n",
    "#________________________________________\n",
    "#  Solve\n",
    "#________________________________________\n",
    "def solve(N, i):\n",
    "    \"\"\"\n",
    "    解答のコード\n",
    "    \"\"\"\n",
    "    return N - i + 1\n",
    "#________________________________________\n",
    "\n",
    "\n",
    "if __name__ == \"__main__\":\n",
    "    main()"
   ]
  },
  {
   "cell_type": "markdown",
   "metadata": {},
   "source": [
    "## Sample"
   ]
  },
  {
   "cell_type": "code",
   "execution_count": null,
   "metadata": {},
   "outputs": [],
   "source": []
  },
  {
   "cell_type": "markdown",
   "metadata": {},
   "source": [
    "## End"
   ]
  }
 ],
 "metadata": {
  "kernelspec": {
   "display_name": "Python 3",
   "language": "python",
   "name": "python3"
  },
  "language_info": {
   "codemirror_mode": {
    "name": "ipython",
    "version": 3
   },
   "file_extension": ".py",
   "mimetype": "text/x-python",
   "name": "python",
   "nbconvert_exporter": "python",
   "pygments_lexer": "ipython3",
   "version": "3.5.2"
  },
  "toc": {
   "base_numbering": 1,
   "nav_menu": {},
   "number_sections": true,
   "sideBar": true,
   "skip_h1_title": true,
   "title_cell": "Table of Contents",
   "title_sidebar": "Contents",
   "toc_cell": true,
   "toc_position": {},
   "toc_section_display": true,
   "toc_window_display": true
  },
  "varInspector": {
   "cols": {
    "lenName": 16,
    "lenType": 16,
    "lenVar": 40
   },
   "kernels_config": {
    "python": {
     "delete_cmd_postfix": "",
     "delete_cmd_prefix": "del ",
     "library": "var_list.py",
     "varRefreshCmd": "print(var_dic_list())"
    },
    "r": {
     "delete_cmd_postfix": ") ",
     "delete_cmd_prefix": "rm(",
     "library": "var_list.r",
     "varRefreshCmd": "cat(var_dic_list()) "
    }
   },
   "types_to_exclude": [
    "module",
    "function",
    "builtin_function_or_method",
    "instance",
    "_Feature"
   ],
   "window_display": false
  }
 },
 "nbformat": 4,
 "nbformat_minor": 2
}
